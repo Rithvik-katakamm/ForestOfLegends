{
 "cells": [
  {
   "cell_type": "markdown",
   "metadata": {},
   "source": [
    "# Exploring Pokemon data for fun"
   ]
  },
  {
   "cell_type": "code",
   "execution_count": 204,
   "metadata": {},
   "outputs": [],
   "source": [
    "#import stuff \n",
    "import pandas as pd\n",
    "import torch\n",
    "import torch.nn as nn\n",
    "import torch.optim as optim\n",
    "from sklearn.model_selection import train_test_split\n",
    "from sklearn.preprocessing import StandardScaler\n",
    "from sklearn.linear_model import LogisticRegression\n",
    "from sklearn.metrics import accuracy_score, confusion_matrix, classification_report\n",
    "from sklearn.ensemble import RandomForestClassifier\n",
    "\n"
   ]
  },
  {
   "cell_type": "code",
   "execution_count": 2,
   "metadata": {},
   "outputs": [
    {
     "data": {
      "application/vnd.microsoft.datawrangler.viewer.v0+json": {
       "columns": [
        {
         "name": "index",
         "rawType": "int64",
         "type": "integer"
        },
        {
         "name": "abilities",
         "rawType": "object",
         "type": "string"
        },
        {
         "name": "against_bug",
         "rawType": "float64",
         "type": "float"
        },
        {
         "name": "against_dark",
         "rawType": "float64",
         "type": "float"
        },
        {
         "name": "against_dragon",
         "rawType": "float64",
         "type": "float"
        },
        {
         "name": "against_electric",
         "rawType": "float64",
         "type": "float"
        },
        {
         "name": "against_fairy",
         "rawType": "float64",
         "type": "float"
        },
        {
         "name": "against_fight",
         "rawType": "float64",
         "type": "float"
        },
        {
         "name": "against_fire",
         "rawType": "float64",
         "type": "float"
        },
        {
         "name": "against_flying",
         "rawType": "float64",
         "type": "float"
        },
        {
         "name": "against_ghost",
         "rawType": "float64",
         "type": "float"
        },
        {
         "name": "against_grass",
         "rawType": "float64",
         "type": "float"
        },
        {
         "name": "against_ground",
         "rawType": "float64",
         "type": "float"
        },
        {
         "name": "against_ice",
         "rawType": "float64",
         "type": "float"
        },
        {
         "name": "against_normal",
         "rawType": "float64",
         "type": "float"
        },
        {
         "name": "against_poison",
         "rawType": "float64",
         "type": "float"
        },
        {
         "name": "against_psychic",
         "rawType": "float64",
         "type": "float"
        },
        {
         "name": "against_rock",
         "rawType": "float64",
         "type": "float"
        },
        {
         "name": "against_steel",
         "rawType": "float64",
         "type": "float"
        },
        {
         "name": "against_water",
         "rawType": "float64",
         "type": "float"
        },
        {
         "name": "attack",
         "rawType": "int64",
         "type": "integer"
        },
        {
         "name": "base_egg_steps",
         "rawType": "int64",
         "type": "integer"
        },
        {
         "name": "base_happiness",
         "rawType": "int64",
         "type": "integer"
        },
        {
         "name": "base_total",
         "rawType": "int64",
         "type": "integer"
        },
        {
         "name": "capture_rate",
         "rawType": "object",
         "type": "string"
        },
        {
         "name": "classfication",
         "rawType": "object",
         "type": "string"
        },
        {
         "name": "defense",
         "rawType": "int64",
         "type": "integer"
        },
        {
         "name": "experience_growth",
         "rawType": "int64",
         "type": "integer"
        },
        {
         "name": "height_m",
         "rawType": "float64",
         "type": "float"
        },
        {
         "name": "hp",
         "rawType": "int64",
         "type": "integer"
        },
        {
         "name": "japanese_name",
         "rawType": "object",
         "type": "string"
        },
        {
         "name": "name",
         "rawType": "object",
         "type": "string"
        },
        {
         "name": "percentage_male",
         "rawType": "float64",
         "type": "float"
        },
        {
         "name": "pokedex_number",
         "rawType": "int64",
         "type": "integer"
        },
        {
         "name": "sp_attack",
         "rawType": "int64",
         "type": "integer"
        },
        {
         "name": "sp_defense",
         "rawType": "int64",
         "type": "integer"
        },
        {
         "name": "speed",
         "rawType": "int64",
         "type": "integer"
        },
        {
         "name": "type1",
         "rawType": "object",
         "type": "string"
        },
        {
         "name": "type2",
         "rawType": "object",
         "type": "string"
        },
        {
         "name": "weight_kg",
         "rawType": "float64",
         "type": "float"
        },
        {
         "name": "generation",
         "rawType": "int64",
         "type": "integer"
        },
        {
         "name": "is_legendary",
         "rawType": "int64",
         "type": "integer"
        }
       ],
       "conversionMethod": "pd.DataFrame",
       "ref": "bd9362e3-3441-40b1-a7e3-91329e2e4370",
       "rows": [
        [
         "0",
         "['Overgrow', 'Chlorophyll']",
         "1.0",
         "1.0",
         "1.0",
         "0.5",
         "0.5",
         "0.5",
         "2.0",
         "2.0",
         "1.0",
         "0.25",
         "1.0",
         "2.0",
         "1.0",
         "1.0",
         "2.0",
         "1.0",
         "1.0",
         "0.5",
         "49",
         "5120",
         "70",
         "318",
         "45",
         "Seed Pokémon",
         "49",
         "1059860",
         "0.7",
         "45",
         "Fushigidaneフシギダネ",
         "Bulbasaur",
         "88.1",
         "1",
         "65",
         "65",
         "45",
         "grass",
         "poison",
         "6.9",
         "1",
         "0"
        ],
        [
         "1",
         "['Overgrow', 'Chlorophyll']",
         "1.0",
         "1.0",
         "1.0",
         "0.5",
         "0.5",
         "0.5",
         "2.0",
         "2.0",
         "1.0",
         "0.25",
         "1.0",
         "2.0",
         "1.0",
         "1.0",
         "2.0",
         "1.0",
         "1.0",
         "0.5",
         "62",
         "5120",
         "70",
         "405",
         "45",
         "Seed Pokémon",
         "63",
         "1059860",
         "1.0",
         "60",
         "Fushigisouフシギソウ",
         "Ivysaur",
         "88.1",
         "2",
         "80",
         "80",
         "60",
         "grass",
         "poison",
         "13.0",
         "1",
         "0"
        ],
        [
         "2",
         "['Overgrow', 'Chlorophyll']",
         "1.0",
         "1.0",
         "1.0",
         "0.5",
         "0.5",
         "0.5",
         "2.0",
         "2.0",
         "1.0",
         "0.25",
         "1.0",
         "2.0",
         "1.0",
         "1.0",
         "2.0",
         "1.0",
         "1.0",
         "0.5",
         "100",
         "5120",
         "70",
         "625",
         "45",
         "Seed Pokémon",
         "123",
         "1059860",
         "2.0",
         "80",
         "Fushigibanaフシギバナ",
         "Venusaur",
         "88.1",
         "3",
         "122",
         "120",
         "80",
         "grass",
         "poison",
         "100.0",
         "1",
         "0"
        ],
        [
         "3",
         "['Blaze', 'Solar Power']",
         "0.5",
         "1.0",
         "1.0",
         "1.0",
         "0.5",
         "1.0",
         "0.5",
         "1.0",
         "1.0",
         "0.5",
         "2.0",
         "0.5",
         "1.0",
         "1.0",
         "1.0",
         "2.0",
         "0.5",
         "2.0",
         "52",
         "5120",
         "70",
         "309",
         "45",
         "Lizard Pokémon",
         "43",
         "1059860",
         "0.6",
         "39",
         "Hitokageヒトカゲ",
         "Charmander",
         "88.1",
         "4",
         "60",
         "50",
         "65",
         "fire",
         null,
         "8.5",
         "1",
         "0"
        ],
        [
         "4",
         "['Blaze', 'Solar Power']",
         "0.5",
         "1.0",
         "1.0",
         "1.0",
         "0.5",
         "1.0",
         "0.5",
         "1.0",
         "1.0",
         "0.5",
         "2.0",
         "0.5",
         "1.0",
         "1.0",
         "1.0",
         "2.0",
         "0.5",
         "2.0",
         "64",
         "5120",
         "70",
         "405",
         "45",
         "Flame Pokémon",
         "58",
         "1059860",
         "1.1",
         "58",
         "Lizardoリザード",
         "Charmeleon",
         "88.1",
         "5",
         "80",
         "65",
         "80",
         "fire",
         null,
         "19.0",
         "1",
         "0"
        ]
       ],
       "shape": {
        "columns": 41,
        "rows": 5
       }
      },
      "text/html": [
       "<div>\n",
       "<style scoped>\n",
       "    .dataframe tbody tr th:only-of-type {\n",
       "        vertical-align: middle;\n",
       "    }\n",
       "\n",
       "    .dataframe tbody tr th {\n",
       "        vertical-align: top;\n",
       "    }\n",
       "\n",
       "    .dataframe thead th {\n",
       "        text-align: right;\n",
       "    }\n",
       "</style>\n",
       "<table border=\"1\" class=\"dataframe\">\n",
       "  <thead>\n",
       "    <tr style=\"text-align: right;\">\n",
       "      <th></th>\n",
       "      <th>abilities</th>\n",
       "      <th>against_bug</th>\n",
       "      <th>against_dark</th>\n",
       "      <th>against_dragon</th>\n",
       "      <th>against_electric</th>\n",
       "      <th>against_fairy</th>\n",
       "      <th>against_fight</th>\n",
       "      <th>against_fire</th>\n",
       "      <th>against_flying</th>\n",
       "      <th>against_ghost</th>\n",
       "      <th>...</th>\n",
       "      <th>percentage_male</th>\n",
       "      <th>pokedex_number</th>\n",
       "      <th>sp_attack</th>\n",
       "      <th>sp_defense</th>\n",
       "      <th>speed</th>\n",
       "      <th>type1</th>\n",
       "      <th>type2</th>\n",
       "      <th>weight_kg</th>\n",
       "      <th>generation</th>\n",
       "      <th>is_legendary</th>\n",
       "    </tr>\n",
       "  </thead>\n",
       "  <tbody>\n",
       "    <tr>\n",
       "      <th>0</th>\n",
       "      <td>['Overgrow', 'Chlorophyll']</td>\n",
       "      <td>1.0</td>\n",
       "      <td>1.0</td>\n",
       "      <td>1.0</td>\n",
       "      <td>0.5</td>\n",
       "      <td>0.5</td>\n",
       "      <td>0.5</td>\n",
       "      <td>2.0</td>\n",
       "      <td>2.0</td>\n",
       "      <td>1.0</td>\n",
       "      <td>...</td>\n",
       "      <td>88.1</td>\n",
       "      <td>1</td>\n",
       "      <td>65</td>\n",
       "      <td>65</td>\n",
       "      <td>45</td>\n",
       "      <td>grass</td>\n",
       "      <td>poison</td>\n",
       "      <td>6.9</td>\n",
       "      <td>1</td>\n",
       "      <td>0</td>\n",
       "    </tr>\n",
       "    <tr>\n",
       "      <th>1</th>\n",
       "      <td>['Overgrow', 'Chlorophyll']</td>\n",
       "      <td>1.0</td>\n",
       "      <td>1.0</td>\n",
       "      <td>1.0</td>\n",
       "      <td>0.5</td>\n",
       "      <td>0.5</td>\n",
       "      <td>0.5</td>\n",
       "      <td>2.0</td>\n",
       "      <td>2.0</td>\n",
       "      <td>1.0</td>\n",
       "      <td>...</td>\n",
       "      <td>88.1</td>\n",
       "      <td>2</td>\n",
       "      <td>80</td>\n",
       "      <td>80</td>\n",
       "      <td>60</td>\n",
       "      <td>grass</td>\n",
       "      <td>poison</td>\n",
       "      <td>13.0</td>\n",
       "      <td>1</td>\n",
       "      <td>0</td>\n",
       "    </tr>\n",
       "    <tr>\n",
       "      <th>2</th>\n",
       "      <td>['Overgrow', 'Chlorophyll']</td>\n",
       "      <td>1.0</td>\n",
       "      <td>1.0</td>\n",
       "      <td>1.0</td>\n",
       "      <td>0.5</td>\n",
       "      <td>0.5</td>\n",
       "      <td>0.5</td>\n",
       "      <td>2.0</td>\n",
       "      <td>2.0</td>\n",
       "      <td>1.0</td>\n",
       "      <td>...</td>\n",
       "      <td>88.1</td>\n",
       "      <td>3</td>\n",
       "      <td>122</td>\n",
       "      <td>120</td>\n",
       "      <td>80</td>\n",
       "      <td>grass</td>\n",
       "      <td>poison</td>\n",
       "      <td>100.0</td>\n",
       "      <td>1</td>\n",
       "      <td>0</td>\n",
       "    </tr>\n",
       "    <tr>\n",
       "      <th>3</th>\n",
       "      <td>['Blaze', 'Solar Power']</td>\n",
       "      <td>0.5</td>\n",
       "      <td>1.0</td>\n",
       "      <td>1.0</td>\n",
       "      <td>1.0</td>\n",
       "      <td>0.5</td>\n",
       "      <td>1.0</td>\n",
       "      <td>0.5</td>\n",
       "      <td>1.0</td>\n",
       "      <td>1.0</td>\n",
       "      <td>...</td>\n",
       "      <td>88.1</td>\n",
       "      <td>4</td>\n",
       "      <td>60</td>\n",
       "      <td>50</td>\n",
       "      <td>65</td>\n",
       "      <td>fire</td>\n",
       "      <td>NaN</td>\n",
       "      <td>8.5</td>\n",
       "      <td>1</td>\n",
       "      <td>0</td>\n",
       "    </tr>\n",
       "    <tr>\n",
       "      <th>4</th>\n",
       "      <td>['Blaze', 'Solar Power']</td>\n",
       "      <td>0.5</td>\n",
       "      <td>1.0</td>\n",
       "      <td>1.0</td>\n",
       "      <td>1.0</td>\n",
       "      <td>0.5</td>\n",
       "      <td>1.0</td>\n",
       "      <td>0.5</td>\n",
       "      <td>1.0</td>\n",
       "      <td>1.0</td>\n",
       "      <td>...</td>\n",
       "      <td>88.1</td>\n",
       "      <td>5</td>\n",
       "      <td>80</td>\n",
       "      <td>65</td>\n",
       "      <td>80</td>\n",
       "      <td>fire</td>\n",
       "      <td>NaN</td>\n",
       "      <td>19.0</td>\n",
       "      <td>1</td>\n",
       "      <td>0</td>\n",
       "    </tr>\n",
       "  </tbody>\n",
       "</table>\n",
       "<p>5 rows × 41 columns</p>\n",
       "</div>"
      ],
      "text/plain": [
       "                     abilities  against_bug  against_dark  against_dragon  \\\n",
       "0  ['Overgrow', 'Chlorophyll']          1.0           1.0             1.0   \n",
       "1  ['Overgrow', 'Chlorophyll']          1.0           1.0             1.0   \n",
       "2  ['Overgrow', 'Chlorophyll']          1.0           1.0             1.0   \n",
       "3     ['Blaze', 'Solar Power']          0.5           1.0             1.0   \n",
       "4     ['Blaze', 'Solar Power']          0.5           1.0             1.0   \n",
       "\n",
       "   against_electric  against_fairy  against_fight  against_fire  \\\n",
       "0               0.5            0.5            0.5           2.0   \n",
       "1               0.5            0.5            0.5           2.0   \n",
       "2               0.5            0.5            0.5           2.0   \n",
       "3               1.0            0.5            1.0           0.5   \n",
       "4               1.0            0.5            1.0           0.5   \n",
       "\n",
       "   against_flying  against_ghost  ...  percentage_male  pokedex_number  \\\n",
       "0             2.0            1.0  ...             88.1               1   \n",
       "1             2.0            1.0  ...             88.1               2   \n",
       "2             2.0            1.0  ...             88.1               3   \n",
       "3             1.0            1.0  ...             88.1               4   \n",
       "4             1.0            1.0  ...             88.1               5   \n",
       "\n",
       "   sp_attack  sp_defense  speed  type1   type2  weight_kg  generation  \\\n",
       "0         65          65     45  grass  poison        6.9           1   \n",
       "1         80          80     60  grass  poison       13.0           1   \n",
       "2        122         120     80  grass  poison      100.0           1   \n",
       "3         60          50     65   fire     NaN        8.5           1   \n",
       "4         80          65     80   fire     NaN       19.0           1   \n",
       "\n",
       "   is_legendary  \n",
       "0             0  \n",
       "1             0  \n",
       "2             0  \n",
       "3             0  \n",
       "4             0  \n",
       "\n",
       "[5 rows x 41 columns]"
      ]
     },
     "execution_count": 2,
     "metadata": {},
     "output_type": "execute_result"
    }
   ],
   "source": [
    "# load the data \n",
    "pokemon_data = pd.read_csv(\"/Users/rithvik/Desktop/personal/code/Pokemon'/pokemon.csv\")\n",
    "pokemon_data.head()"
   ]
  },
  {
   "cell_type": "code",
   "execution_count": null,
   "metadata": {},
   "outputs": [
    {
     "data": {
      "text/plain": [
       "(801, 41)"
      ]
     },
     "execution_count": 3,
     "metadata": {},
     "output_type": "execute_result"
    }
   ],
   "source": [
    "#what does this tensor look like \n",
    "pokemon_data.shape"
   ]
  },
  {
   "cell_type": "code",
   "execution_count": 4,
   "metadata": {},
   "outputs": [
    {
     "name": "stdout",
     "output_type": "stream",
     "text": [
      "<class 'pandas.core.frame.DataFrame'>\n",
      "RangeIndex: 801 entries, 0 to 800\n",
      "Data columns (total 41 columns):\n",
      " #   Column             Non-Null Count  Dtype  \n",
      "---  ------             --------------  -----  \n",
      " 0   abilities          801 non-null    object \n",
      " 1   against_bug        801 non-null    float64\n",
      " 2   against_dark       801 non-null    float64\n",
      " 3   against_dragon     801 non-null    float64\n",
      " 4   against_electric   801 non-null    float64\n",
      " 5   against_fairy      801 non-null    float64\n",
      " 6   against_fight      801 non-null    float64\n",
      " 7   against_fire       801 non-null    float64\n",
      " 8   against_flying     801 non-null    float64\n",
      " 9   against_ghost      801 non-null    float64\n",
      " 10  against_grass      801 non-null    float64\n",
      " 11  against_ground     801 non-null    float64\n",
      " 12  against_ice        801 non-null    float64\n",
      " 13  against_normal     801 non-null    float64\n",
      " 14  against_poison     801 non-null    float64\n",
      " 15  against_psychic    801 non-null    float64\n",
      " 16  against_rock       801 non-null    float64\n",
      " 17  against_steel      801 non-null    float64\n",
      " 18  against_water      801 non-null    float64\n",
      " 19  attack             801 non-null    int64  \n",
      " 20  base_egg_steps     801 non-null    int64  \n",
      " 21  base_happiness     801 non-null    int64  \n",
      " 22  base_total         801 non-null    int64  \n",
      " 23  capture_rate       801 non-null    object \n",
      " 24  classfication      801 non-null    object \n",
      " 25  defense            801 non-null    int64  \n",
      " 26  experience_growth  801 non-null    int64  \n",
      " 27  height_m           781 non-null    float64\n",
      " 28  hp                 801 non-null    int64  \n",
      " 29  japanese_name      801 non-null    object \n",
      " 30  name               801 non-null    object \n",
      " 31  percentage_male    703 non-null    float64\n",
      " 32  pokedex_number     801 non-null    int64  \n",
      " 33  sp_attack          801 non-null    int64  \n",
      " 34  sp_defense         801 non-null    int64  \n",
      " 35  speed              801 non-null    int64  \n",
      " 36  type1              801 non-null    object \n",
      " 37  type2              417 non-null    object \n",
      " 38  weight_kg          781 non-null    float64\n",
      " 39  generation         801 non-null    int64  \n",
      " 40  is_legendary       801 non-null    int64  \n",
      "dtypes: float64(21), int64(13), object(7)\n",
      "memory usage: 256.7+ KB\n"
     ]
    }
   ],
   "source": [
    "pokemon_data.info()"
   ]
  },
  {
   "cell_type": "code",
   "execution_count": 5,
   "metadata": {},
   "outputs": [
    {
     "data": {
      "text/plain": [
       "abilities            ['Blaze', 'Solar Power']\n",
       "against_bug                              0.25\n",
       "against_dark                              1.0\n",
       "against_dragon                            1.0\n",
       "against_electric                          2.0\n",
       "against_fairy                             0.5\n",
       "against_fight                             0.5\n",
       "against_fire                              0.5\n",
       "against_flying                            1.0\n",
       "against_ghost                             1.0\n",
       "against_grass                            0.25\n",
       "against_ground                            0.0\n",
       "against_ice                               1.0\n",
       "against_normal                            1.0\n",
       "against_poison                            1.0\n",
       "against_psychic                           1.0\n",
       "against_rock                              4.0\n",
       "against_steel                             0.5\n",
       "against_water                             2.0\n",
       "attack                                    104\n",
       "base_egg_steps                           5120\n",
       "base_happiness                             70\n",
       "base_total                                634\n",
       "capture_rate                               45\n",
       "classfication                   Flame Pokémon\n",
       "defense                                    78\n",
       "experience_growth                     1059860\n",
       "height_m                                  1.7\n",
       "hp                                         78\n",
       "japanese_name                   Lizardonリザードン\n",
       "name                                Charizard\n",
       "percentage_male                          88.1\n",
       "pokedex_number                              6\n",
       "sp_attack                                 159\n",
       "sp_defense                                115\n",
       "speed                                     100\n",
       "type1                                    fire\n",
       "type2                                  flying\n",
       "weight_kg                                90.5\n",
       "generation                                  1\n",
       "is_legendary                                0\n",
       "Name: 5, dtype: object"
      ]
     },
     "execution_count": 5,
     "metadata": {},
     "output_type": "execute_result"
    }
   ],
   "source": [
    "pokemon_data.iloc[5]"
   ]
  },
  {
   "cell_type": "code",
   "execution_count": 6,
   "metadata": {},
   "outputs": [
    {
     "data": {
      "text/plain": [
       "abilities            ['Overgrow', 'Chlorophyll']\n",
       "against_bug                                  1.0\n",
       "against_dark                                 1.0\n",
       "against_dragon                               1.0\n",
       "against_electric                             0.5\n",
       "against_fairy                                0.5\n",
       "against_fight                                0.5\n",
       "against_fire                                 2.0\n",
       "against_flying                               2.0\n",
       "against_ghost                                1.0\n",
       "against_grass                               0.25\n",
       "against_ground                               1.0\n",
       "against_ice                                  2.0\n",
       "against_normal                               1.0\n",
       "against_poison                               1.0\n",
       "against_psychic                              2.0\n",
       "against_rock                                 1.0\n",
       "against_steel                                1.0\n",
       "against_water                                0.5\n",
       "attack                                       100\n",
       "base_egg_steps                              5120\n",
       "base_happiness                                70\n",
       "base_total                                   625\n",
       "capture_rate                                  45\n",
       "classfication                       Seed Pokémon\n",
       "defense                                      123\n",
       "experience_growth                        1059860\n",
       "height_m                                     2.0\n",
       "hp                                            80\n",
       "japanese_name                   Fushigibanaフシギバナ\n",
       "name                                    Venusaur\n",
       "percentage_male                             88.1\n",
       "pokedex_number                                 3\n",
       "sp_attack                                    122\n",
       "sp_defense                                   120\n",
       "speed                                         80\n",
       "type1                                      grass\n",
       "type2                                     poison\n",
       "weight_kg                                  100.0\n",
       "generation                                     1\n",
       "is_legendary                                   0\n",
       "Name: 2, dtype: object"
      ]
     },
     "execution_count": 6,
     "metadata": {},
     "output_type": "execute_result"
    }
   ],
   "source": [
    "pokemon_data.iloc[2]"
   ]
  },
  {
   "cell_type": "markdown",
   "metadata": {},
   "source": [
    "# Some Classic EDA"
   ]
  },
  {
   "cell_type": "markdown",
   "metadata": {},
   "source": [
    "What pokemon does this data contain?"
   ]
  },
  {
   "cell_type": "code",
   "execution_count": 7,
   "metadata": {},
   "outputs": [
    {
     "name": "stdout",
     "output_type": "stream",
     "text": [
      "Generation 1\n",
      "(151, 41)\n",
      "\n",
      "Generation 2\n",
      "(100, 41)\n",
      "\n",
      "Generation 3\n",
      "(135, 41)\n",
      "\n",
      "Generation 4\n",
      "(107, 41)\n",
      "\n",
      "Generation 5\n",
      "(156, 41)\n",
      "\n",
      "Generation 6\n",
      "(72, 41)\n",
      "\n",
      "Generation 7\n",
      "(80, 41)\n",
      "\n"
     ]
    }
   ],
   "source": [
    "i = 0\n",
    "while i < 7:\n",
    "    i+=1\n",
    "    print(f'Generation {i}')\n",
    "    print(pokemon_data[pokemon_data['generation'] == i].shape)\n",
    "    print()"
   ]
  },
  {
   "cell_type": "code",
   "execution_count": 8,
   "metadata": {},
   "outputs": [
    {
     "data": {
      "text/plain": [
       "(29, 41)"
      ]
     },
     "execution_count": 8,
     "metadata": {},
     "output_type": "execute_result"
    }
   ],
   "source": [
    "single_type_7 = pokemon_data[(pokemon_data['generation'] == 7) & (pokemon_data['type2'].isna())]\n",
    "single_type_7.shape\n"
   ]
  },
  {
   "cell_type": "code",
   "execution_count": 9,
   "metadata": {},
   "outputs": [
    {
     "name": "stdout",
     "output_type": "stream",
     "text": [
      "int64\n"
     ]
    }
   ],
   "source": [
    "#printing all the rows of legendary pokemon \n",
    "print(pokemon_data['is_legendary'].dtype)"
   ]
  },
  {
   "cell_type": "markdown",
   "metadata": {},
   "source": [
    "## Legendary vs Non legendary (switch up the pace a little)"
   ]
  },
  {
   "cell_type": "code",
   "execution_count": 10,
   "metadata": {},
   "outputs": [
    {
     "name": "stdout",
     "output_type": "stream",
     "text": [
      "(70, 41)\n",
      "(731, 41)\n"
     ]
    }
   ],
   "source": [
    "#seperarting legendary pokemon \n",
    "lengendary_pokemon = pokemon_data[pokemon_data['is_legendary'] == 1]\n",
    "print(lengendary_pokemon.shape)\n",
    "\n",
    "# non legendary \n",
    "normal_pokemon = pokemon_data[pokemon_data['is_legendary'] == 0]\n",
    "print(normal_pokemon.shape)"
   ]
  },
  {
   "cell_type": "code",
   "execution_count": 11,
   "metadata": {},
   "outputs": [
    {
     "data": {
      "text/plain": [
       "Index(['abilities', 'against_bug', 'against_dark', 'against_dragon',\n",
       "       'against_electric', 'against_fairy', 'against_fight', 'against_fire',\n",
       "       'against_flying', 'against_ghost', 'against_grass', 'against_ground',\n",
       "       'against_ice', 'against_normal', 'against_poison', 'against_psychic',\n",
       "       'against_rock', 'against_steel', 'against_water', 'attack',\n",
       "       'base_egg_steps', 'base_happiness', 'base_total', 'capture_rate',\n",
       "       'classfication', 'defense', 'experience_growth', 'height_m', 'hp',\n",
       "       'japanese_name', 'name', 'percentage_male', 'pokedex_number',\n",
       "       'sp_attack', 'sp_defense', 'speed', 'type1', 'type2', 'weight_kg',\n",
       "       'generation', 'is_legendary'],\n",
       "      dtype='object')"
      ]
     },
     "execution_count": 11,
     "metadata": {},
     "output_type": "execute_result"
    }
   ],
   "source": [
    "#normal pokemon EDA\n",
    "normal_pokemon.columns"
   ]
  },
  {
   "cell_type": "code",
   "execution_count": null,
   "metadata": {},
   "outputs": [],
   "source": [
    "#Some cleaning why not\n",
    "\n",
    "#defining funtion to drop columns \n",
    "def drop_weakness(data):\n",
    "    #drop all the weakness related columns \n",
    "    weakness = ['against_bug', 'against_dark', 'against_dragon',\n",
    "       'against_electric', 'against_fairy', 'against_fight', 'against_fire',\n",
    "       'against_flying', 'against_ghost', 'against_grass', 'against_ground',\n",
    "       'against_ice', 'against_normal', 'against_poison', 'against_psychic',\n",
    "       'against_rock', 'against_steel', 'against_water']\n",
    "\n",
    "    cleaned_data = data.drop(columns=weakness)\n",
    "    return cleaned_data\n",
    "\n"
   ]
  },
  {
   "cell_type": "code",
   "execution_count": 13,
   "metadata": {},
   "outputs": [
    {
     "name": "stdout",
     "output_type": "stream",
     "text": [
      "(731, 23)\n",
      "(70, 23)\n"
     ]
    }
   ],
   "source": [
    "# dropping weakness columns\n",
    "normal_pokemon_cleaned = drop_weakness(normal_pokemon)\n",
    "print(normal_pokemon_cleaned.shape)\n",
    "\n",
    "lengendary_pokemon_cleaned = drop_weakness(lengendary_pokemon)\n",
    "print(lengendary_pokemon_cleaned.shape)"
   ]
  },
  {
   "cell_type": "code",
   "execution_count": 14,
   "metadata": {},
   "outputs": [
    {
     "data": {
      "text/plain": [
       "Index(['abilities', 'attack', 'base_egg_steps', 'base_happiness', 'base_total',\n",
       "       'capture_rate', 'classfication', 'defense', 'experience_growth',\n",
       "       'height_m', 'hp', 'japanese_name', 'name', 'percentage_male',\n",
       "       'pokedex_number', 'sp_attack', 'sp_defense', 'speed', 'type1', 'type2',\n",
       "       'weight_kg', 'generation', 'is_legendary'],\n",
       "      dtype='object')"
      ]
     },
     "execution_count": 14,
     "metadata": {},
     "output_type": "execute_result"
    }
   ],
   "source": [
    "normal_pokemon_cleaned.columns"
   ]
  },
  {
   "cell_type": "markdown",
   "metadata": {},
   "source": [
    "Whats the varience is special attack and attack?\n"
   ]
  },
  {
   "cell_type": "code",
   "execution_count": 15,
   "metadata": {},
   "outputs": [
    {
     "name": "stdout",
     "output_type": "stream",
     "text": [
      "30.5768197710955\n",
      "30.5768197710955\n",
      "34.40358749168663\n",
      "31.562698454780637\n",
      "181\n",
      "788     Cosmog\n",
      "789    Cosmoem\n",
      "Name: name, dtype: object\n"
     ]
    }
   ],
   "source": [
    "# finding the varience is power\n",
    "\n",
    "print(normal_pokemon_cleaned['attack'].std())\n",
    "print(normal_pokemon_cleaned['attack'].std())\n",
    "\n",
    "print(lengendary_pokemon_cleaned['sp_attack'].std())\n",
    "print(lengendary_pokemon_cleaned['attack'].std())\n",
    "\n",
    "print(lengendary_pokemon_cleaned['attack'].max())\n",
    "print(lengendary_pokemon_cleaned['name'][lengendary_pokemon_cleaned['attack'] == 29])"
   ]
  },
  {
   "cell_type": "markdown",
   "metadata": {},
   "source": [
    "## Comparing power differences (and some other metrics)"
   ]
  },
  {
   "cell_type": "code",
   "execution_count": 16,
   "metadata": {},
   "outputs": [
    {
     "name": "stdout",
     "output_type": "stream",
     "text": [
      "Normal Pokemon:\n",
      "attack               7.484131e+01\n",
      "base_egg_steps       5.419425e+03\n",
      "base_happiness       6.786594e+01\n",
      "base_total           4.104815e+02\n",
      "defense              7.048153e+01\n",
      "experience_growth    1.037103e+06\n",
      "height_m             1.055618e+00\n",
      "hp                   6.642408e+01\n",
      "percentage_male      5.506394e+01\n",
      "pokedex_number       3.869193e+02\n",
      "sp_attack            6.724077e+01\n",
      "sp_defense           6.794528e+01\n",
      "speed                6.354856e+01\n",
      "weight_kg            4.800716e+01\n",
      "generation           3.607387e+00\n",
      "is_legendary         0.000000e+00\n",
      "dtype: float64\n",
      "\n",
      "Legendary Pokemon:\n",
      "attack               1.093571e+02\n",
      "base_egg_steps       2.569143e+04\n",
      "base_happiness       3.921429e+01\n",
      "base_total           6.152571e+02\n",
      "capture_rate         4.762076e+86\n",
      "defense              9.940000e+01\n",
      "experience_growth    1.241851e+06\n",
      "height_m             2.281159e+00\n",
      "hp                   9.542857e+01\n",
      "percentage_male      6.428571e+01\n",
      "pokedex_number       5.480429e+02\n",
      "sp_attack            1.137571e+02\n",
      "sp_defense           1.018857e+02\n",
      "speed                9.542857e+01\n",
      "weight_kg            1.993507e+02\n",
      "generation           4.557143e+00\n",
      "is_legendary         1.000000e+00\n",
      "dtype: float64\n"
     ]
    },
    {
     "name": "stderr",
     "output_type": "stream",
     "text": [
      "/var/folders/8b/s88jkrbj1mvfd3mw0qp8dllr0000gn/T/ipykernel_45998/134437766.py:3: FutureWarning: The default value of numeric_only in DataFrame.mean is deprecated. In a future version, it will default to False. In addition, specifying 'numeric_only=None' is deprecated. Select only valid columns or specify the value of numeric_only to silence this warning.\n",
      "  print(f'Normal Pokemon:\\n{normal_pokemon_cleaned.mean()}')\n",
      "/var/folders/8b/s88jkrbj1mvfd3mw0qp8dllr0000gn/T/ipykernel_45998/134437766.py:5: FutureWarning: The default value of numeric_only in DataFrame.mean is deprecated. In a future version, it will default to False. In addition, specifying 'numeric_only=None' is deprecated. Select only valid columns or specify the value of numeric_only to silence this warning.\n",
      "  print(f'Legendary Pokemon:\\n{lengendary_pokemon_cleaned.mean()}')\n"
     ]
    }
   ],
   "source": [
    "# now lets see the mean \n",
    "\n",
    "print(f'Normal Pokemon:\\n{normal_pokemon_cleaned.mean()}')\n",
    "print()\n",
    "print(f'Legendary Pokemon:\\n{lengendary_pokemon_cleaned.mean()}')"
   ]
  },
  {
   "cell_type": "code",
   "execution_count": 17,
   "metadata": {},
   "outputs": [
    {
     "name": "stdout",
     "output_type": "stream",
     "text": [
      "109.35714285714286\n"
     ]
    }
   ],
   "source": [
    "sum_attack = lengendary_pokemon_cleaned['attack'].sum()\n",
    "print(sum_attack/len(lengendary_pokemon_cleaned['attack']))\n",
    "\n"
   ]
  },
  {
   "cell_type": "markdown",
   "metadata": {},
   "source": [
    "Whats the heaviest legendary and normal pokemon ?"
   ]
  },
  {
   "cell_type": "code",
   "execution_count": 18,
   "metadata": {},
   "outputs": [
    {
     "name": "stdout",
     "output_type": "stream",
     "text": [
      "Cosmog is the lightest legendary Pokémon, weighing in at 0.1 kg.\n",
      "Cosmoem is the heaviest legendary Pokémon, weighing in at 999.9 kg.\n"
     ]
    }
   ],
   "source": [
    "#lightst legendary pokemon\n",
    "lightest_index = lengendary_pokemon_cleaned['weight_kg'].idxmin()\n",
    "name = lengendary_pokemon_cleaned.loc[lightest_index, 'name']\n",
    "weight = lengendary_pokemon_cleaned.loc[lightest_index, 'weight_kg']\n",
    "\n",
    "print(f\"{name} is the lightest legendary Pokémon, weighing in at {weight} kg.\")\n",
    "\n",
    "#heaviest \n",
    "heaviest_index = lengendary_pokemon_cleaned['weight_kg'].idxmax()\n",
    "name = lengendary_pokemon_cleaned.loc[heaviest_index, 'name']\n",
    "weight = lengendary_pokemon_cleaned.loc[heaviest_index, 'weight_kg']\n",
    "\n",
    "print(f\"{name} is the heaviest legendary Pokémon, weighing in at {weight} kg.\")\n"
   ]
  },
  {
   "cell_type": "code",
   "execution_count": 19,
   "metadata": {},
   "outputs": [
    {
     "name": "stdout",
     "output_type": "stream",
     "text": [
      "['Articuno', 'Zapdos', 'Moltres', 'Mewtwo', 'Mew', 'Raikou', 'Entei', 'Suicune', 'Lugia', 'Ho-Oh', 'Celebi', 'Regirock', 'Regice', 'Registeel', 'Latias', 'Latios', 'Kyogre', 'Groudon', 'Rayquaza', 'Jirachi', 'Deoxys', 'Uxie', 'Mesprit', 'Azelf', 'Dialga', 'Palkia', 'Heatran', 'Regigigas', 'Giratina', 'Cresselia', 'Manaphy', 'Darkrai', 'Shaymin', 'Arceus', 'Victini', 'Cobalion', 'Terrakion', 'Virizion', 'Tornadus', 'Thundurus', 'Reshiram', 'Zekrom', 'Landorus', 'Kyurem', 'Keldeo', 'Meloetta', 'Genesect', 'Xerneas', 'Yveltal', 'Zygarde', 'Diancie', 'Hoopa', 'Volcanion', 'Tapu Koko', 'Tapu Lele', 'Tapu Bulu', 'Tapu Fini', 'Cosmog', 'Cosmoem', 'Solgaleo', 'Lunala', 'Nihilego', 'Buzzwole', 'Pheromosa', 'Xurkitree', 'Celesteela', 'Kartana', 'Guzzlord', 'Necrozma', 'Magearna']\n"
     ]
    }
   ],
   "source": [
    "#printing the names of all the legendary pokemon \n",
    "legendary_names = lengendary_pokemon_cleaned['name'].tolist()\n",
    "print(legendary_names)\n"
   ]
  },
  {
   "cell_type": "code",
   "execution_count": 20,
   "metadata": {},
   "outputs": [
    {
     "data": {
      "image/png": "[encoded data removed]",
      "text/plain": [
       "<Figure size 1000x600 with 1 Axes>"
      ]
     },
     "metadata": {},
     "output_type": "display_data"
    }
   ],
   "source": [
    "import matplotlib.pyplot as plt\n",
    "import seaborn as sns\n",
    "\n",
    "# Set up the plot\n",
    "plt.figure(figsize=(10, 6))\n",
    "\n",
    "# KDE plots\n",
    "sns.kdeplot(normal_pokemon_cleaned['attack'], label='Normal Pokémon', fill=True)\n",
    "sns.kdeplot(lengendary_pokemon_cleaned['attack'], label='Legendary Pokémon', fill=True)\n",
    "\n",
    "# Calculate means and medians\n",
    "normal_mean = normal_pokemon_cleaned['attack'].mean()\n",
    "legendary_mean = lengendary_pokemon_cleaned['attack'].mean()\n",
    "normal_median = normal_pokemon_cleaned['attack'].median()\n",
    "legendary_median = lengendary_pokemon_cleaned['attack'].median()\n",
    "\n",
    "# Plot mean lines\n",
    "plt.axvline(normal_mean, color='blue', linestyle='--', label=f'Normal Mean: {normal_mean:.1f}')\n",
    "plt.axvline(legendary_mean, color='red', linestyle='--', label=f'Legendary Mean: {legendary_mean:.1f}')\n",
    "\n",
    "# Plot median lines\n",
    "plt.axvline(normal_median, color='blue', linestyle=':', label=f'Normal Median: {normal_median:.1f}')\n",
    "plt.axvline(legendary_median, color='red', linestyle=':', label=f'Legendary Median: {legendary_median:.1f}')\n",
    "\n",
    "# Final touches\n",
    "plt.xlabel('Attack')\n",
    "plt.ylabel('Density')\n",
    "plt.title('Distribution of Attack for Legendary vs Normal Pokémon')\n",
    "plt.legend()\n",
    "plt.grid(True)\n",
    "plt.show()\n"
   ]
  },
  {
   "cell_type": "markdown",
   "metadata": {},
   "source": [
    "I can imagine that this distribution was pretty intentional by The Pokemon Company."
   ]
  },
  {
   "cell_type": "code",
   "execution_count": 21,
   "metadata": {},
   "outputs": [
    {
     "name": "stdout",
     "output_type": "stream",
     "text": [
      "181\n",
      "185\n"
     ]
    }
   ],
   "source": [
    "print(lengendary_pokemon_cleaned['attack'].max())\n",
    "print(normal_pokemon_cleaned['attack'].max())"
   ]
  },
  {
   "cell_type": "markdown",
   "metadata": {},
   "source": [
    "What are the most powerful pokemon in both catagorys?"
   ]
  },
  {
   "cell_type": "code",
   "execution_count": 36,
   "metadata": {},
   "outputs": [
    {
     "data": {
      "text/plain": [
       "200"
      ]
     },
     "execution_count": 36,
     "metadata": {},
     "output_type": "execute_result"
    }
   ],
   "source": [
    "lengendary_pokemon_cleaned['base_total'].min()"
   ]
  },
  {
   "cell_type": "code",
   "execution_count": 60,
   "metadata": {},
   "outputs": [
    {
     "data": {
      "text/plain": [
       "23"
      ]
     },
     "execution_count": 60,
     "metadata": {},
     "output_type": "execute_result"
    }
   ],
   "source": [
    "strongest_legendary = lengendary_pokemon_cleaned[lengendary_pokemon_cleaned['base_total'] > 650]\n",
    "strongest_legendary['name'].count()"
   ]
  },
  {
   "cell_type": "code",
   "execution_count": 61,
   "metadata": {},
   "outputs": [
    {
     "name": "stdout",
     "output_type": "stream",
     "text": [
      "149       Mewtwo\n",
      "248        Lugia\n",
      "249        Ho-Oh\n",
      "379       Latias\n",
      "380       Latios\n",
      "381       Kyogre\n",
      "382      Groudon\n",
      "383     Rayquaza\n",
      "482       Dialga\n",
      "483       Palkia\n",
      "485    Regigigas\n",
      "486     Giratina\n",
      "492       Arceus\n",
      "642     Reshiram\n",
      "643       Zekrom\n",
      "645       Kyurem\n",
      "715      Xerneas\n",
      "716      Yveltal\n",
      "717      Zygarde\n",
      "718      Diancie\n",
      "719        Hoopa\n",
      "790     Solgaleo\n",
      "791       Lunala\n",
      "Name: name, dtype: object\n"
     ]
    }
   ],
   "source": [
    "print(strongest_legendary['name'])"
   ]
  },
  {
   "cell_type": "code",
   "execution_count": 62,
   "metadata": {},
   "outputs": [
    {
     "name": "stdout",
     "output_type": "stream",
     "text": [
      "abilities            ['Clear Body']\n",
      "attack                          160\n",
      "base_egg_steps                 6400\n",
      "base_happiness                   70\n",
      "base_total                      700\n",
      "capture_rate                      3\n",
      "classfication         Jewel Pokémon\n",
      "defense                         110\n",
      "experience_growth           1250000\n",
      "height_m                        0.7\n",
      "hp                               50\n",
      "japanese_name         Diancieディアンシー\n",
      "name                        Diancie\n",
      "percentage_male                 NaN\n",
      "pokedex_number                  719\n",
      "sp_attack                       160\n",
      "sp_defense                      110\n",
      "speed                           110\n",
      "type1                          rock\n",
      "type2                         fairy\n",
      "weight_kg                       8.8\n",
      "generation                        6\n",
      "is_legendary                      1\n",
      "Name: 718, dtype: object\n"
     ]
    }
   ],
   "source": [
    "print(strongest_legendary.loc[718])"
   ]
  },
  {
   "cell_type": "code",
   "execution_count": 63,
   "metadata": {},
   "outputs": [
    {
     "name": "stdout",
     "output_type": "stream",
     "text": [
      "149      Mewtwo\n",
      "383    Rayquaza\n",
      "Name: name, dtype: object\n"
     ]
    }
   ],
   "source": [
    "print(strongest_legendary[strongest_legendary['base_total'] == 780]['name'])"
   ]
  },
  {
   "cell_type": "code",
   "execution_count": 64,
   "metadata": {},
   "outputs": [
    {
     "data": {
      "text/plain": [
       "count    731.000000\n",
       "mean     410.481532\n",
       "std      106.099143\n",
       "min      180.000000\n",
       "25%      317.000000\n",
       "50%      418.000000\n",
       "75%      494.000000\n",
       "max      700.000000\n",
       "Name: base_total, dtype: float64"
      ]
     },
     "execution_count": 64,
     "metadata": {},
     "output_type": "execute_result"
    }
   ],
   "source": [
    "normal_pokemon_cleaned['base_total'].describe()"
   ]
  },
  {
   "cell_type": "code",
   "execution_count": 79,
   "metadata": {},
   "outputs": [
    {
     "data": {
      "application/vnd.microsoft.datawrangler.viewer.v0+json": {
       "columns": [
        {
         "name": "index",
         "rawType": "int64",
         "type": "integer"
        },
        {
         "name": "name",
         "rawType": "object",
         "type": "string"
        },
        {
         "name": "base_total",
         "rawType": "int64",
         "type": "integer"
        }
       ],
       "conversionMethod": "pd.DataFrame",
       "ref": "ea0be3b1-df1b-4899-aeb6-d62c3ac61bb9",
       "rows": [
        [
         "247",
         "Tyranitar",
         "700"
        ],
        [
         "288",
         "Slaking",
         "670"
        ],
        [
         "372",
         "Salamence",
         "700"
        ],
        [
         "375",
         "Metagross",
         "700"
        ],
        [
         "444",
         "Garchomp",
         "700"
        ]
       ],
       "shape": {
        "columns": 2,
        "rows": 5
       }
      },
      "text/html": [
       "<div>\n",
       "<style scoped>\n",
       "    .dataframe tbody tr th:only-of-type {\n",
       "        vertical-align: middle;\n",
       "    }\n",
       "\n",
       "    .dataframe tbody tr th {\n",
       "        vertical-align: top;\n",
       "    }\n",
       "\n",
       "    .dataframe thead th {\n",
       "        text-align: right;\n",
       "    }\n",
       "</style>\n",
       "<table border=\"1\" class=\"dataframe\">\n",
       "  <thead>\n",
       "    <tr style=\"text-align: right;\">\n",
       "      <th></th>\n",
       "      <th>name</th>\n",
       "      <th>base_total</th>\n",
       "    </tr>\n",
       "  </thead>\n",
       "  <tbody>\n",
       "    <tr>\n",
       "      <th>247</th>\n",
       "      <td>Tyranitar</td>\n",
       "      <td>700</td>\n",
       "    </tr>\n",
       "    <tr>\n",
       "      <th>288</th>\n",
       "      <td>Slaking</td>\n",
       "      <td>670</td>\n",
       "    </tr>\n",
       "    <tr>\n",
       "      <th>372</th>\n",
       "      <td>Salamence</td>\n",
       "      <td>700</td>\n",
       "    </tr>\n",
       "    <tr>\n",
       "      <th>375</th>\n",
       "      <td>Metagross</td>\n",
       "      <td>700</td>\n",
       "    </tr>\n",
       "    <tr>\n",
       "      <th>444</th>\n",
       "      <td>Garchomp</td>\n",
       "      <td>700</td>\n",
       "    </tr>\n",
       "  </tbody>\n",
       "</table>\n",
       "</div>"
      ],
      "text/plain": [
       "          name  base_total\n",
       "247  Tyranitar         700\n",
       "288    Slaking         670\n",
       "372  Salamence         700\n",
       "375  Metagross         700\n",
       "444   Garchomp         700"
      ]
     },
     "execution_count": 79,
     "metadata": {},
     "output_type": "execute_result"
    }
   ],
   "source": [
    "strongest_normal_pokemon = normal_pokemon_cleaned[normal_pokemon_cleaned['base_total'] > 650]\n",
    "strongest_normal_pokemon[['name','base_total']]"
   ]
  },
  {
   "cell_type": "code",
   "execution_count": 80,
   "metadata": {},
   "outputs": [
    {
     "data": {
      "application/vnd.microsoft.datawrangler.viewer.v0+json": {
       "columns": [
        {
         "name": "index",
         "rawType": "int64",
         "type": "integer"
        },
        {
         "name": "name",
         "rawType": "object",
         "type": "string"
        },
        {
         "name": "base_total",
         "rawType": "int64",
         "type": "integer"
        }
       ],
       "conversionMethod": "pd.DataFrame",
       "ref": "c0bc4606-0943-4d9d-9cdb-dcd55de96ad5",
       "rows": [
        [
         "149",
         "Mewtwo",
         "780"
        ],
        [
         "248",
         "Lugia",
         "680"
        ],
        [
         "249",
         "Ho-Oh",
         "680"
        ],
        [
         "379",
         "Latias",
         "700"
        ],
        [
         "380",
         "Latios",
         "700"
        ],
        [
         "381",
         "Kyogre",
         "770"
        ],
        [
         "382",
         "Groudon",
         "770"
        ],
        [
         "383",
         "Rayquaza",
         "780"
        ],
        [
         "482",
         "Dialga",
         "680"
        ],
        [
         "483",
         "Palkia",
         "680"
        ],
        [
         "485",
         "Regigigas",
         "670"
        ],
        [
         "486",
         "Giratina",
         "680"
        ],
        [
         "492",
         "Arceus",
         "720"
        ],
        [
         "642",
         "Reshiram",
         "680"
        ],
        [
         "643",
         "Zekrom",
         "680"
        ],
        [
         "645",
         "Kyurem",
         "700"
        ],
        [
         "715",
         "Xerneas",
         "680"
        ],
        [
         "716",
         "Yveltal",
         "680"
        ],
        [
         "717",
         "Zygarde",
         "708"
        ],
        [
         "718",
         "Diancie",
         "700"
        ],
        [
         "719",
         "Hoopa",
         "680"
        ],
        [
         "790",
         "Solgaleo",
         "680"
        ],
        [
         "791",
         "Lunala",
         "680"
        ]
       ],
       "shape": {
        "columns": 2,
        "rows": 23
       }
      },
      "text/html": [
       "<div>\n",
       "<style scoped>\n",
       "    .dataframe tbody tr th:only-of-type {\n",
       "        vertical-align: middle;\n",
       "    }\n",
       "\n",
       "    .dataframe tbody tr th {\n",
       "        vertical-align: top;\n",
       "    }\n",
       "\n",
       "    .dataframe thead th {\n",
       "        text-align: right;\n",
       "    }\n",
       "</style>\n",
       "<table border=\"1\" class=\"dataframe\">\n",
       "  <thead>\n",
       "    <tr style=\"text-align: right;\">\n",
       "      <th></th>\n",
       "      <th>name</th>\n",
       "      <th>base_total</th>\n",
       "    </tr>\n",
       "  </thead>\n",
       "  <tbody>\n",
       "    <tr>\n",
       "      <th>149</th>\n",
       "      <td>Mewtwo</td>\n",
       "      <td>780</td>\n",
       "    </tr>\n",
       "    <tr>\n",
       "      <th>248</th>\n",
       "      <td>Lugia</td>\n",
       "      <td>680</td>\n",
       "    </tr>\n",
       "    <tr>\n",
       "      <th>249</th>\n",
       "      <td>Ho-Oh</td>\n",
       "      <td>680</td>\n",
       "    </tr>\n",
       "    <tr>\n",
       "      <th>379</th>\n",
       "      <td>Latias</td>\n",
       "      <td>700</td>\n",
       "    </tr>\n",
       "    <tr>\n",
       "      <th>380</th>\n",
       "      <td>Latios</td>\n",
       "      <td>700</td>\n",
       "    </tr>\n",
       "    <tr>\n",
       "      <th>381</th>\n",
       "      <td>Kyogre</td>\n",
       "      <td>770</td>\n",
       "    </tr>\n",
       "    <tr>\n",
       "      <th>382</th>\n",
       "      <td>Groudon</td>\n",
       "      <td>770</td>\n",
       "    </tr>\n",
       "    <tr>\n",
       "      <th>383</th>\n",
       "      <td>Rayquaza</td>\n",
       "      <td>780</td>\n",
       "    </tr>\n",
       "    <tr>\n",
       "      <th>482</th>\n",
       "      <td>Dialga</td>\n",
       "      <td>680</td>\n",
       "    </tr>\n",
       "    <tr>\n",
       "      <th>483</th>\n",
       "      <td>Palkia</td>\n",
       "      <td>680</td>\n",
       "    </tr>\n",
       "    <tr>\n",
       "      <th>485</th>\n",
       "      <td>Regigigas</td>\n",
       "      <td>670</td>\n",
       "    </tr>\n",
       "    <tr>\n",
       "      <th>486</th>\n",
       "      <td>Giratina</td>\n",
       "      <td>680</td>\n",
       "    </tr>\n",
       "    <tr>\n",
       "      <th>492</th>\n",
       "      <td>Arceus</td>\n",
       "      <td>720</td>\n",
       "    </tr>\n",
       "    <tr>\n",
       "      <th>642</th>\n",
       "      <td>Reshiram</td>\n",
       "      <td>680</td>\n",
       "    </tr>\n",
       "    <tr>\n",
       "      <th>643</th>\n",
       "      <td>Zekrom</td>\n",
       "      <td>680</td>\n",
       "    </tr>\n",
       "    <tr>\n",
       "      <th>645</th>\n",
       "      <td>Kyurem</td>\n",
       "      <td>700</td>\n",
       "    </tr>\n",
       "    <tr>\n",
       "      <th>715</th>\n",
       "      <td>Xerneas</td>\n",
       "      <td>680</td>\n",
       "    </tr>\n",
       "    <tr>\n",
       "      <th>716</th>\n",
       "      <td>Yveltal</td>\n",
       "      <td>680</td>\n",
       "    </tr>\n",
       "    <tr>\n",
       "      <th>717</th>\n",
       "      <td>Zygarde</td>\n",
       "      <td>708</td>\n",
       "    </tr>\n",
       "    <tr>\n",
       "      <th>718</th>\n",
       "      <td>Diancie</td>\n",
       "      <td>700</td>\n",
       "    </tr>\n",
       "    <tr>\n",
       "      <th>719</th>\n",
       "      <td>Hoopa</td>\n",
       "      <td>680</td>\n",
       "    </tr>\n",
       "    <tr>\n",
       "      <th>790</th>\n",
       "      <td>Solgaleo</td>\n",
       "      <td>680</td>\n",
       "    </tr>\n",
       "    <tr>\n",
       "      <th>791</th>\n",
       "      <td>Lunala</td>\n",
       "      <td>680</td>\n",
       "    </tr>\n",
       "  </tbody>\n",
       "</table>\n",
       "</div>"
      ],
      "text/plain": [
       "          name  base_total\n",
       "149     Mewtwo         780\n",
       "248      Lugia         680\n",
       "249      Ho-Oh         680\n",
       "379     Latias         700\n",
       "380     Latios         700\n",
       "381     Kyogre         770\n",
       "382    Groudon         770\n",
       "383   Rayquaza         780\n",
       "482     Dialga         680\n",
       "483     Palkia         680\n",
       "485  Regigigas         670\n",
       "486   Giratina         680\n",
       "492     Arceus         720\n",
       "642   Reshiram         680\n",
       "643     Zekrom         680\n",
       "645     Kyurem         700\n",
       "715    Xerneas         680\n",
       "716    Yveltal         680\n",
       "717    Zygarde         708\n",
       "718    Diancie         700\n",
       "719      Hoopa         680\n",
       "790   Solgaleo         680\n",
       "791     Lunala         680"
      ]
     },
     "execution_count": 80,
     "metadata": {},
     "output_type": "execute_result"
    }
   ],
   "source": [
    "strongest_legendary[['name','base_total']]"
   ]
  },
  {
   "cell_type": "code",
   "execution_count": 102,
   "metadata": {},
   "outputs": [
    {
     "data": {
      "text/plain": [
       "447"
      ]
     },
     "execution_count": 102,
     "metadata": {},
     "output_type": "execute_result"
    }
   ],
   "source": [
    "lucario_index = normal_pokemon_cleaned[normal_pokemon_cleaned['name'] == 'Lucario'].index[0]\n",
    "lucario_index"
   ]
  },
  {
   "cell_type": "code",
   "execution_count": 103,
   "metadata": {},
   "outputs": [
    {
     "data": {
      "text/plain": [
       "abilities            ['Steadfast', 'Inner Focus', 'Justified']\n",
       "attack                                                     145\n",
       "base_egg_steps                                            6400\n",
       "base_happiness                                              70\n",
       "base_total                                                 625\n",
       "capture_rate                                                45\n",
       "classfication                                     Aura Pokémon\n",
       "defense                                                     88\n",
       "experience_growth                                      1059860\n",
       "height_m                                                   1.2\n",
       "hp                                                          70\n",
       "japanese_name                                      Lucarioルカリオ\n",
       "name                                                   Lucario\n",
       "percentage_male                                           88.1\n",
       "pokedex_number                                             448\n",
       "sp_attack                                                  140\n",
       "sp_defense                                                  70\n",
       "speed                                                      112\n",
       "type1                                                 fighting\n",
       "type2                                                    steel\n",
       "weight_kg                                                 54.0\n",
       "generation                                                   4\n",
       "is_legendary                                                 0\n",
       "Name: 447, dtype: object"
      ]
     },
     "execution_count": 103,
     "metadata": {},
     "output_type": "execute_result"
    }
   ],
   "source": [
    "normal_pokemon_cleaned.loc[447]"
   ]
  },
  {
   "cell_type": "markdown",
   "metadata": {},
   "source": [
    "## Lets unconver why I didn't have the patience to hatch pokemon as a kid"
   ]
  },
  {
   "cell_type": "markdown",
   "metadata": {},
   "source": [
    "what pokemon is the hardest to catch?"
   ]
  },
  {
   "cell_type": "code",
   "execution_count": 99,
   "metadata": {},
   "outputs": [
    {
     "data": {
      "text/plain": [
       "149"
      ]
     },
     "execution_count": 99,
     "metadata": {},
     "output_type": "execute_result"
    }
   ],
   "source": [
    "pokemon_data['base_egg_steps'].idxmax()"
   ]
  },
  {
   "cell_type": "code",
   "execution_count": 101,
   "metadata": {},
   "outputs": [
    {
     "data": {
      "application/vnd.microsoft.datawrangler.viewer.v0+json": {
       "columns": [
        {
         "name": "index",
         "rawType": "int64",
         "type": "integer"
        },
        {
         "name": "abilities",
         "rawType": "object",
         "type": "string"
        },
        {
         "name": "attack",
         "rawType": "int64",
         "type": "integer"
        },
        {
         "name": "base_egg_steps",
         "rawType": "int64",
         "type": "integer"
        },
        {
         "name": "base_happiness",
         "rawType": "int64",
         "type": "integer"
        },
        {
         "name": "base_total",
         "rawType": "int64",
         "type": "integer"
        },
        {
         "name": "capture_rate",
         "rawType": "object",
         "type": "string"
        },
        {
         "name": "classfication",
         "rawType": "object",
         "type": "string"
        },
        {
         "name": "defense",
         "rawType": "int64",
         "type": "integer"
        },
        {
         "name": "experience_growth",
         "rawType": "int64",
         "type": "integer"
        },
        {
         "name": "height_m",
         "rawType": "float64",
         "type": "float"
        },
        {
         "name": "hp",
         "rawType": "int64",
         "type": "integer"
        },
        {
         "name": "japanese_name",
         "rawType": "object",
         "type": "string"
        },
        {
         "name": "name",
         "rawType": "object",
         "type": "string"
        },
        {
         "name": "percentage_male",
         "rawType": "float64",
         "type": "float"
        },
        {
         "name": "pokedex_number",
         "rawType": "int64",
         "type": "integer"
        },
        {
         "name": "sp_attack",
         "rawType": "int64",
         "type": "integer"
        },
        {
         "name": "sp_defense",
         "rawType": "int64",
         "type": "integer"
        },
        {
         "name": "speed",
         "rawType": "int64",
         "type": "integer"
        },
        {
         "name": "type1",
         "rawType": "object",
         "type": "string"
        },
        {
         "name": "type2",
         "rawType": "object",
         "type": "string"
        },
        {
         "name": "weight_kg",
         "rawType": "float64",
         "type": "float"
        },
        {
         "name": "generation",
         "rawType": "int64",
         "type": "integer"
        },
        {
         "name": "is_legendary",
         "rawType": "int64",
         "type": "integer"
        }
       ],
       "conversionMethod": "pd.DataFrame",
       "ref": "6941cad4-79da-4265-b53f-527616bd6963",
       "rows": [
        [
         "0",
         "['Overgrow', 'Chlorophyll']",
         "49",
         "5120",
         "70",
         "318",
         "45",
         "Seed Pokémon",
         "49",
         "1059860",
         "0.7",
         "45",
         "Fushigidaneフシギダネ",
         "Bulbasaur",
         "88.1",
         "1",
         "65",
         "65",
         "45",
         "grass",
         "poison",
         "6.9",
         "1",
         "0"
        ],
        [
         "1",
         "['Overgrow', 'Chlorophyll']",
         "62",
         "5120",
         "70",
         "405",
         "45",
         "Seed Pokémon",
         "63",
         "1059860",
         "1.0",
         "60",
         "Fushigisouフシギソウ",
         "Ivysaur",
         "88.1",
         "2",
         "80",
         "80",
         "60",
         "grass",
         "poison",
         "13.0",
         "1",
         "0"
        ],
        [
         "2",
         "['Overgrow', 'Chlorophyll']",
         "100",
         "5120",
         "70",
         "625",
         "45",
         "Seed Pokémon",
         "123",
         "1059860",
         "2.0",
         "80",
         "Fushigibanaフシギバナ",
         "Venusaur",
         "88.1",
         "3",
         "122",
         "120",
         "80",
         "grass",
         "poison",
         "100.0",
         "1",
         "0"
        ],
        [
         "3",
         "['Blaze', 'Solar Power']",
         "52",
         "5120",
         "70",
         "309",
         "45",
         "Lizard Pokémon",
         "43",
         "1059860",
         "0.6",
         "39",
         "Hitokageヒトカゲ",
         "Charmander",
         "88.1",
         "4",
         "60",
         "50",
         "65",
         "fire",
         null,
         "8.5",
         "1",
         "0"
        ],
        [
         "4",
         "['Blaze', 'Solar Power']",
         "64",
         "5120",
         "70",
         "405",
         "45",
         "Flame Pokémon",
         "58",
         "1059860",
         "1.1",
         "58",
         "Lizardoリザード",
         "Charmeleon",
         "88.1",
         "5",
         "80",
         "65",
         "80",
         "fire",
         null,
         "19.0",
         "1",
         "0"
        ]
       ],
       "shape": {
        "columns": 23,
        "rows": 5
       }
      },
      "text/html": [
       "<div>\n",
       "<style scoped>\n",
       "    .dataframe tbody tr th:only-of-type {\n",
       "        vertical-align: middle;\n",
       "    }\n",
       "\n",
       "    .dataframe tbody tr th {\n",
       "        vertical-align: top;\n",
       "    }\n",
       "\n",
       "    .dataframe thead th {\n",
       "        text-align: right;\n",
       "    }\n",
       "</style>\n",
       "<table border=\"1\" class=\"dataframe\">\n",
       "  <thead>\n",
       "    <tr style=\"text-align: right;\">\n",
       "      <th></th>\n",
       "      <th>abilities</th>\n",
       "      <th>attack</th>\n",
       "      <th>base_egg_steps</th>\n",
       "      <th>base_happiness</th>\n",
       "      <th>base_total</th>\n",
       "      <th>capture_rate</th>\n",
       "      <th>classfication</th>\n",
       "      <th>defense</th>\n",
       "      <th>experience_growth</th>\n",
       "      <th>height_m</th>\n",
       "      <th>...</th>\n",
       "      <th>percentage_male</th>\n",
       "      <th>pokedex_number</th>\n",
       "      <th>sp_attack</th>\n",
       "      <th>sp_defense</th>\n",
       "      <th>speed</th>\n",
       "      <th>type1</th>\n",
       "      <th>type2</th>\n",
       "      <th>weight_kg</th>\n",
       "      <th>generation</th>\n",
       "      <th>is_legendary</th>\n",
       "    </tr>\n",
       "  </thead>\n",
       "  <tbody>\n",
       "    <tr>\n",
       "      <th>0</th>\n",
       "      <td>['Overgrow', 'Chlorophyll']</td>\n",
       "      <td>49</td>\n",
       "      <td>5120</td>\n",
       "      <td>70</td>\n",
       "      <td>318</td>\n",
       "      <td>45</td>\n",
       "      <td>Seed Pokémon</td>\n",
       "      <td>49</td>\n",
       "      <td>1059860</td>\n",
       "      <td>0.7</td>\n",
       "      <td>...</td>\n",
       "      <td>88.1</td>\n",
       "      <td>1</td>\n",
       "      <td>65</td>\n",
       "      <td>65</td>\n",
       "      <td>45</td>\n",
       "      <td>grass</td>\n",
       "      <td>poison</td>\n",
       "      <td>6.9</td>\n",
       "      <td>1</td>\n",
       "      <td>0</td>\n",
       "    </tr>\n",
       "    <tr>\n",
       "      <th>1</th>\n",
       "      <td>['Overgrow', 'Chlorophyll']</td>\n",
       "      <td>62</td>\n",
       "      <td>5120</td>\n",
       "      <td>70</td>\n",
       "      <td>405</td>\n",
       "      <td>45</td>\n",
       "      <td>Seed Pokémon</td>\n",
       "      <td>63</td>\n",
       "      <td>1059860</td>\n",
       "      <td>1.0</td>\n",
       "      <td>...</td>\n",
       "      <td>88.1</td>\n",
       "      <td>2</td>\n",
       "      <td>80</td>\n",
       "      <td>80</td>\n",
       "      <td>60</td>\n",
       "      <td>grass</td>\n",
       "      <td>poison</td>\n",
       "      <td>13.0</td>\n",
       "      <td>1</td>\n",
       "      <td>0</td>\n",
       "    </tr>\n",
       "    <tr>\n",
       "      <th>2</th>\n",
       "      <td>['Overgrow', 'Chlorophyll']</td>\n",
       "      <td>100</td>\n",
       "      <td>5120</td>\n",
       "      <td>70</td>\n",
       "      <td>625</td>\n",
       "      <td>45</td>\n",
       "      <td>Seed Pokémon</td>\n",
       "      <td>123</td>\n",
       "      <td>1059860</td>\n",
       "      <td>2.0</td>\n",
       "      <td>...</td>\n",
       "      <td>88.1</td>\n",
       "      <td>3</td>\n",
       "      <td>122</td>\n",
       "      <td>120</td>\n",
       "      <td>80</td>\n",
       "      <td>grass</td>\n",
       "      <td>poison</td>\n",
       "      <td>100.0</td>\n",
       "      <td>1</td>\n",
       "      <td>0</td>\n",
       "    </tr>\n",
       "    <tr>\n",
       "      <th>3</th>\n",
       "      <td>['Blaze', 'Solar Power']</td>\n",
       "      <td>52</td>\n",
       "      <td>5120</td>\n",
       "      <td>70</td>\n",
       "      <td>309</td>\n",
       "      <td>45</td>\n",
       "      <td>Lizard Pokémon</td>\n",
       "      <td>43</td>\n",
       "      <td>1059860</td>\n",
       "      <td>0.6</td>\n",
       "      <td>...</td>\n",
       "      <td>88.1</td>\n",
       "      <td>4</td>\n",
       "      <td>60</td>\n",
       "      <td>50</td>\n",
       "      <td>65</td>\n",
       "      <td>fire</td>\n",
       "      <td>NaN</td>\n",
       "      <td>8.5</td>\n",
       "      <td>1</td>\n",
       "      <td>0</td>\n",
       "    </tr>\n",
       "    <tr>\n",
       "      <th>4</th>\n",
       "      <td>['Blaze', 'Solar Power']</td>\n",
       "      <td>64</td>\n",
       "      <td>5120</td>\n",
       "      <td>70</td>\n",
       "      <td>405</td>\n",
       "      <td>45</td>\n",
       "      <td>Flame Pokémon</td>\n",
       "      <td>58</td>\n",
       "      <td>1059860</td>\n",
       "      <td>1.1</td>\n",
       "      <td>...</td>\n",
       "      <td>88.1</td>\n",
       "      <td>5</td>\n",
       "      <td>80</td>\n",
       "      <td>65</td>\n",
       "      <td>80</td>\n",
       "      <td>fire</td>\n",
       "      <td>NaN</td>\n",
       "      <td>19.0</td>\n",
       "      <td>1</td>\n",
       "      <td>0</td>\n",
       "    </tr>\n",
       "  </tbody>\n",
       "</table>\n",
       "<p>5 rows × 23 columns</p>\n",
       "</div>"
      ],
      "text/plain": [
       "                     abilities  attack  base_egg_steps  base_happiness  \\\n",
       "0  ['Overgrow', 'Chlorophyll']      49            5120              70   \n",
       "1  ['Overgrow', 'Chlorophyll']      62            5120              70   \n",
       "2  ['Overgrow', 'Chlorophyll']     100            5120              70   \n",
       "3     ['Blaze', 'Solar Power']      52            5120              70   \n",
       "4     ['Blaze', 'Solar Power']      64            5120              70   \n",
       "\n",
       "   base_total capture_rate   classfication  defense  experience_growth  \\\n",
       "0         318           45    Seed Pokémon       49            1059860   \n",
       "1         405           45    Seed Pokémon       63            1059860   \n",
       "2         625           45    Seed Pokémon      123            1059860   \n",
       "3         309           45  Lizard Pokémon       43            1059860   \n",
       "4         405           45   Flame Pokémon       58            1059860   \n",
       "\n",
       "   height_m  ...  percentage_male pokedex_number sp_attack  sp_defense  speed  \\\n",
       "0       0.7  ...             88.1              1        65          65     45   \n",
       "1       1.0  ...             88.1              2        80          80     60   \n",
       "2       2.0  ...             88.1              3       122         120     80   \n",
       "3       0.6  ...             88.1              4        60          50     65   \n",
       "4       1.1  ...             88.1              5        80          65     80   \n",
       "\n",
       "   type1   type2  weight_kg generation is_legendary  \n",
       "0  grass  poison        6.9          1            0  \n",
       "1  grass  poison       13.0          1            0  \n",
       "2  grass  poison      100.0          1            0  \n",
       "3   fire     NaN        8.5          1            0  \n",
       "4   fire     NaN       19.0          1            0  \n",
       "\n",
       "[5 rows x 23 columns]"
      ]
     },
     "execution_count": 101,
     "metadata": {},
     "output_type": "execute_result"
    }
   ],
   "source": [
    "pokemon_data_cleaned = drop_weakness(pokemon_data)\n",
    "pokemon_data_cleaned.head()"
   ]
  },
  {
   "cell_type": "code",
   "execution_count": 104,
   "metadata": {},
   "outputs": [
    {
     "data": {
      "text/plain": [
       "count      801.000000\n",
       "mean      7191.011236\n",
       "std       6558.220422\n",
       "min       1280.000000\n",
       "25%       5120.000000\n",
       "50%       5120.000000\n",
       "75%       6400.000000\n",
       "max      30720.000000\n",
       "Name: base_egg_steps, dtype: float64"
      ]
     },
     "execution_count": 104,
     "metadata": {},
     "output_type": "execute_result"
    }
   ],
   "source": [
    "pokemon_data_cleaned['base_egg_steps'].describe()"
   ]
  },
  {
   "cell_type": "code",
   "execution_count": 115,
   "metadata": {},
   "outputs": [
    {
     "data": {
      "text/plain": [
       "149"
      ]
     },
     "execution_count": 115,
     "metadata": {},
     "output_type": "execute_result"
    }
   ],
   "source": [
    "hardest_hatch_id = pokemon_data_cleaned['base_egg_steps'].idxmax()\n",
    "hardest_hatch_id"
   ]
  },
  {
   "cell_type": "code",
   "execution_count": 116,
   "metadata": {},
   "outputs": [
    {
     "data": {
      "text/plain": [
       "abilities             ['Battle Armor']\n",
       "attack                              95\n",
       "base_egg_steps                   30720\n",
       "base_happiness                       0\n",
       "base_total                         534\n",
       "capture_rate                         3\n",
       "classfication        Synthetic Pokémon\n",
       "defense                             95\n",
       "experience_growth              1250000\n",
       "height_m                           1.9\n",
       "hp                                  95\n",
       "japanese_name         Type: Nullタイプ：ヌル\n",
       "name                        Type: Null\n",
       "percentage_male                    NaN\n",
       "pokedex_number                     772\n",
       "sp_attack                           95\n",
       "sp_defense                          95\n",
       "speed                               59\n",
       "type1                           normal\n",
       "type2                              NaN\n",
       "weight_kg                        120.5\n",
       "generation                           7\n",
       "is_legendary                         0\n",
       "Name: 771, dtype: object"
      ]
     },
     "execution_count": 116,
     "metadata": {},
     "output_type": "execute_result"
    }
   ],
   "source": [
    "pokemon_data_cleaned.loc[771]"
   ]
  },
  {
   "cell_type": "code",
   "execution_count": 117,
   "metadata": {},
   "outputs": [
    {
     "data": {
      "text/plain": [
       "abilities            ['Pressure', 'Unnerve']\n",
       "attack                                   150\n",
       "base_egg_steps                         30720\n",
       "base_happiness                             0\n",
       "base_total                               780\n",
       "capture_rate                               3\n",
       "classfication                Genetic Pokémon\n",
       "defense                                   70\n",
       "experience_growth                    1250000\n",
       "height_m                                 2.0\n",
       "hp                                       106\n",
       "japanese_name                    Mewtwoミュウツー\n",
       "name                                  Mewtwo\n",
       "percentage_male                          NaN\n",
       "pokedex_number                           150\n",
       "sp_attack                                194\n",
       "sp_defense                               120\n",
       "speed                                    140\n",
       "type1                                psychic\n",
       "type2                                    NaN\n",
       "weight_kg                              122.0\n",
       "generation                                 1\n",
       "is_legendary                               1\n",
       "Name: 149, dtype: object"
      ]
     },
     "execution_count": 117,
     "metadata": {},
     "output_type": "execute_result"
    }
   ],
   "source": [
    "pokemon_data_cleaned.loc[149]"
   ]
  },
  {
   "cell_type": "code",
   "execution_count": 120,
   "metadata": {},
   "outputs": [
    {
     "data": {
      "text/plain": [
       "abilities             ['Battle Armor']\n",
       "attack                              95\n",
       "base_egg_steps                   30720\n",
       "base_happiness                       0\n",
       "base_total                         534\n",
       "capture_rate                         3\n",
       "classfication        Synthetic Pokémon\n",
       "defense                             95\n",
       "experience_growth              1250000\n",
       "height_m                           1.9\n",
       "hp                                  95\n",
       "japanese_name         Type: Nullタイプ：ヌル\n",
       "name                        Type: Null\n",
       "percentage_male                    NaN\n",
       "pokedex_number                     772\n",
       "sp_attack                           95\n",
       "sp_defense                          95\n",
       "speed                               59\n",
       "type1                           normal\n",
       "type2                              NaN\n",
       "weight_kg                        120.5\n",
       "generation                           7\n",
       "is_legendary                         0\n",
       "Name: 771, dtype: object"
      ]
     },
     "execution_count": 120,
     "metadata": {},
     "output_type": "execute_result"
    }
   ],
   "source": [
    "pokemon_data_cleaned.loc[771]"
   ]
  },
  {
   "cell_type": "code",
   "execution_count": 121,
   "metadata": {},
   "outputs": [],
   "source": [
    "hard_hatch_pokemon = pokemon_data_cleaned[pokemon_data_cleaned['base_egg_steps'] == 30720 ]\n"
   ]
  },
  {
   "cell_type": "code",
   "execution_count": 128,
   "metadata": {},
   "outputs": [
    {
     "data": {
      "text/plain": [
       "149        Mewtwo\n",
       "150           Mew\n",
       "248         Lugia\n",
       "249         Ho-Oh\n",
       "250        Celebi\n",
       "379        Latias\n",
       "380        Latios\n",
       "381        Kyogre\n",
       "382       Groudon\n",
       "383      Rayquaza\n",
       "384       Jirachi\n",
       "385        Deoxys\n",
       "482        Dialga\n",
       "483        Palkia\n",
       "485     Regigigas\n",
       "486      Giratina\n",
       "487     Cresselia\n",
       "490       Darkrai\n",
       "491       Shaymin\n",
       "492        Arceus\n",
       "493       Victini\n",
       "640      Tornadus\n",
       "641     Thundurus\n",
       "642      Reshiram\n",
       "643        Zekrom\n",
       "644      Landorus\n",
       "645        Kyurem\n",
       "647      Meloetta\n",
       "648      Genesect\n",
       "715       Xerneas\n",
       "716       Yveltal\n",
       "717       Zygarde\n",
       "719         Hoopa\n",
       "720     Volcanion\n",
       "771    Type: Null\n",
       "772      Silvally\n",
       "788        Cosmog\n",
       "789       Cosmoem\n",
       "790      Solgaleo\n",
       "791        Lunala\n",
       "792      Nihilego\n",
       "793      Buzzwole\n",
       "794     Pheromosa\n",
       "795     Xurkitree\n",
       "796    Celesteela\n",
       "797       Kartana\n",
       "798      Guzzlord\n",
       "799      Necrozma\n",
       "800      Magearna\n",
       "Name: name, dtype: object"
      ]
     },
     "execution_count": 128,
     "metadata": {},
     "output_type": "execute_result"
    }
   ],
   "source": [
    "hard_hatch_pokemon['name']"
   ]
  },
  {
   "cell_type": "code",
   "execution_count": 131,
   "metadata": {},
   "outputs": [],
   "source": [
    "high = normal_pokemon_cleaned['base_egg_steps'].max()"
   ]
  },
  {
   "cell_type": "code",
   "execution_count": 132,
   "metadata": {},
   "outputs": [],
   "source": [
    "hardest = normal_pokemon_cleaned[normal_pokemon_cleaned['base_egg_steps'] == high ]"
   ]
  },
  {
   "cell_type": "code",
   "execution_count": 134,
   "metadata": {},
   "outputs": [
    {
     "data": {
      "text/plain": [
       "771    Type: Null\n",
       "772      Silvally\n",
       "Name: name, dtype: object"
      ]
     },
     "execution_count": 134,
     "metadata": {},
     "output_type": "execute_result"
    }
   ],
   "source": [
    "hardest['name']"
   ]
  },
  {
   "cell_type": "code",
   "execution_count": 135,
   "metadata": {},
   "outputs": [
    {
     "data": {
      "text/plain": [
       "abilities               ['RKS System']\n",
       "attack                              95\n",
       "base_egg_steps                   30720\n",
       "base_happiness                       0\n",
       "base_total                         570\n",
       "capture_rate                         3\n",
       "classfication        Synthetic Pokémon\n",
       "defense                             95\n",
       "experience_growth              1250000\n",
       "height_m                           2.3\n",
       "hp                                  95\n",
       "japanese_name            Silvadyシルヴァディ\n",
       "name                          Silvally\n",
       "percentage_male                    NaN\n",
       "pokedex_number                     773\n",
       "sp_attack                           95\n",
       "sp_defense                          95\n",
       "speed                               95\n",
       "type1                           normal\n",
       "type2                              NaN\n",
       "weight_kg                        100.5\n",
       "generation                           7\n",
       "is_legendary                         0\n",
       "Name: 772, dtype: object"
      ]
     },
     "execution_count": 135,
     "metadata": {},
     "output_type": "execute_result"
    }
   ],
   "source": [
    "hardest.loc[772]"
   ]
  },
  {
   "cell_type": "markdown",
   "metadata": {},
   "source": [
    "# Fun time's over lets really clean this data up"
   ]
  },
  {
   "cell_type": "code",
   "execution_count": 136,
   "metadata": {},
   "outputs": [
    {
     "data": {
      "text/plain": [
       "Index(['abilities', 'attack', 'base_egg_steps', 'base_happiness', 'base_total',\n",
       "       'capture_rate', 'classfication', 'defense', 'experience_growth',\n",
       "       'height_m', 'hp', 'japanese_name', 'name', 'percentage_male',\n",
       "       'pokedex_number', 'sp_attack', 'sp_defense', 'speed', 'type1', 'type2',\n",
       "       'weight_kg', 'generation', 'is_legendary'],\n",
       "      dtype='object')"
      ]
     },
     "execution_count": 136,
     "metadata": {},
     "output_type": "execute_result"
    }
   ],
   "source": [
    "pokemon_data_cleaned.columns"
   ]
  },
  {
   "cell_type": "code",
   "execution_count": 140,
   "metadata": {},
   "outputs": [
    {
     "data": {
      "text/plain": [
       "Index(['attack', 'base_total', 'capture_rate', 'defense', 'experience_growth',\n",
       "       'height_m', 'hp', 'pokedex_number', 'sp_attack', 'sp_defense', 'speed',\n",
       "       'type1', 'type2', 'weight_kg', 'generation', 'is_legendary'],\n",
       "      dtype='object')"
      ]
     },
     "execution_count": 140,
     "metadata": {},
     "output_type": "execute_result"
    }
   ],
   "source": [
    "def drop_trash(data):\n",
    "    trash = ['abilities','base_egg_steps', 'base_happiness', 'classfication','japanese_name','percentage_male', 'name']\n",
    "    cleaned_data = data.drop(columns=trash)\n",
    "    return cleaned_data\n",
    "\n",
    "pokemon_data_ml = drop_trash(pokemon_data_cleaned)\n",
    "pokemon_data_ml.columns"
   ]
  },
  {
   "cell_type": "code",
   "execution_count": null,
   "metadata": {},
   "outputs": [
    {
     "data": {
      "application/vnd.microsoft.datawrangler.viewer.v0+json": {
       "columns": [
        {
         "name": "index",
         "rawType": "int64",
         "type": "integer"
        },
        {
         "name": "type1",
         "rawType": "object",
         "type": "string"
        },
        {
         "name": "type2",
         "rawType": "object",
         "type": "string"
        }
       ],
       "conversionMethod": "pd.DataFrame",
       "ref": "7bcf3bbf-7a8f-4de0-aa57-227a423d68bc",
       "rows": [
        [
         "0",
         "grass",
         "poison"
        ],
        [
         "1",
         "grass",
         "poison"
        ],
        [
         "2",
         "grass",
         "poison"
        ],
        [
         "3",
         "fire",
         null
        ],
        [
         "4",
         "fire",
         null
        ],
        [
         "5",
         "fire",
         "flying"
        ],
        [
         "6",
         "water",
         null
        ],
        [
         "7",
         "water",
         null
        ],
        [
         "8",
         "water",
         null
        ],
        [
         "9",
         "bug",
         null
        ],
        [
         "10",
         "bug",
         null
        ],
        [
         "11",
         "bug",
         "flying"
        ],
        [
         "12",
         "bug",
         "poison"
        ],
        [
         "13",
         "bug",
         "poison"
        ],
        [
         "14",
         "bug",
         "poison"
        ],
        [
         "15",
         "normal",
         "flying"
        ],
        [
         "16",
         "normal",
         "flying"
        ],
        [
         "17",
         "normal",
         "flying"
        ],
        [
         "18",
         "normal",
         "dark"
        ],
        [
         "19",
         "normal",
         "dark"
        ],
        [
         "20",
         "normal",
         "flying"
        ],
        [
         "21",
         "normal",
         "flying"
        ],
        [
         "22",
         "poison",
         null
        ],
        [
         "23",
         "poison",
         null
        ],
        [
         "24",
         "electric",
         null
        ],
        [
         "25",
         "electric",
         "electric"
        ],
        [
         "26",
         "ground",
         "ice"
        ],
        [
         "27",
         "ground",
         "ice"
        ],
        [
         "28",
         "poison",
         null
        ],
        [
         "29",
         "poison",
         null
        ],
        [
         "30",
         "poison",
         "ground"
        ],
        [
         "31",
         "poison",
         null
        ],
        [
         "32",
         "poison",
         null
        ],
        [
         "33",
         "poison",
         "ground"
        ],
        [
         "34",
         "fairy",
         null
        ],
        [
         "35",
         "fairy",
         null
        ],
        [
         "36",
         "fire",
         "ice"
        ],
        [
         "37",
         "fire",
         "ice"
        ],
        [
         "38",
         "normal",
         "fairy"
        ],
        [
         "39",
         "normal",
         "fairy"
        ],
        [
         "40",
         "poison",
         "flying"
        ],
        [
         "41",
         "poison",
         "flying"
        ],
        [
         "42",
         "grass",
         "poison"
        ],
        [
         "43",
         "grass",
         "poison"
        ],
        [
         "44",
         "grass",
         "poison"
        ],
        [
         "45",
         "bug",
         "grass"
        ],
        [
         "46",
         "bug",
         "grass"
        ],
        [
         "47",
         "bug",
         "poison"
        ],
        [
         "48",
         "bug",
         "poison"
        ],
        [
         "49",
         "ground",
         "ground"
        ]
       ],
       "shape": {
        "columns": 2,
        "rows": 801
       }
      },
      "text/html": [
       "<div>\n",
       "<style scoped>\n",
       "    .dataframe tbody tr th:only-of-type {\n",
       "        vertical-align: middle;\n",
       "    }\n",
       "\n",
       "    .dataframe tbody tr th {\n",
       "        vertical-align: top;\n",
       "    }\n",
       "\n",
       "    .dataframe thead th {\n",
       "        text-align: right;\n",
       "    }\n",
       "</style>\n",
       "<table border=\"1\" class=\"dataframe\">\n",
       "  <thead>\n",
       "    <tr style=\"text-align: right;\">\n",
       "      <th></th>\n",
       "      <th>type1</th>\n",
       "      <th>type2</th>\n",
       "    </tr>\n",
       "  </thead>\n",
       "  <tbody>\n",
       "    <tr>\n",
       "      <th>0</th>\n",
       "      <td>grass</td>\n",
       "      <td>poison</td>\n",
       "    </tr>\n",
       "    <tr>\n",
       "      <th>1</th>\n",
       "      <td>grass</td>\n",
       "      <td>poison</td>\n",
       "    </tr>\n",
       "    <tr>\n",
       "      <th>2</th>\n",
       "      <td>grass</td>\n",
       "      <td>poison</td>\n",
       "    </tr>\n",
       "    <tr>\n",
       "      <th>3</th>\n",
       "      <td>fire</td>\n",
       "      <td>NaN</td>\n",
       "    </tr>\n",
       "    <tr>\n",
       "      <th>4</th>\n",
       "      <td>fire</td>\n",
       "      <td>NaN</td>\n",
       "    </tr>\n",
       "    <tr>\n",
       "      <th>...</th>\n",
       "      <td>...</td>\n",
       "      <td>...</td>\n",
       "    </tr>\n",
       "    <tr>\n",
       "      <th>796</th>\n",
       "      <td>steel</td>\n",
       "      <td>flying</td>\n",
       "    </tr>\n",
       "    <tr>\n",
       "      <th>797</th>\n",
       "      <td>grass</td>\n",
       "      <td>steel</td>\n",
       "    </tr>\n",
       "    <tr>\n",
       "      <th>798</th>\n",
       "      <td>dark</td>\n",
       "      <td>dragon</td>\n",
       "    </tr>\n",
       "    <tr>\n",
       "      <th>799</th>\n",
       "      <td>psychic</td>\n",
       "      <td>NaN</td>\n",
       "    </tr>\n",
       "    <tr>\n",
       "      <th>800</th>\n",
       "      <td>steel</td>\n",
       "      <td>fairy</td>\n",
       "    </tr>\n",
       "  </tbody>\n",
       "</table>\n",
       "<p>801 rows × 2 columns</p>\n",
       "</div>"
      ],
      "text/plain": [
       "       type1   type2\n",
       "0      grass  poison\n",
       "1      grass  poison\n",
       "2      grass  poison\n",
       "3       fire     NaN\n",
       "4       fire     NaN\n",
       "..       ...     ...\n",
       "796    steel  flying\n",
       "797    grass   steel\n",
       "798     dark  dragon\n",
       "799  psychic     NaN\n",
       "800    steel   fairy\n",
       "\n",
       "[801 rows x 2 columns]"
      ]
     },
     "execution_count": 143,
     "metadata": {},
     "output_type": "execute_result"
    }
   ],
   "source": [
    "pokemon_data_ml[['type1','type2']]"
   ]
  },
  {
   "cell_type": "code",
   "execution_count": null,
   "metadata": {},
   "outputs": [
    {
     "name": "stdout",
     "output_type": "stream",
     "text": [
      "attack                 0\n",
      "base_total             0\n",
      "capture_rate           0\n",
      "defense                0\n",
      "experience_growth      0\n",
      "height_m              20\n",
      "hp                     0\n",
      "pokedex_number         0\n",
      "sp_attack              0\n",
      "sp_defense             0\n",
      "speed                  0\n",
      "type1                  0\n",
      "type2                384\n",
      "weight_kg             20\n",
      "generation             0\n",
      "is_legendary           0\n",
      "dtype: int64\n"
     ]
    }
   ],
   "source": [
    "print(pokemon_data_ml.isnull().sum())\n",
    "\n"
   ]
  },
  {
   "cell_type": "code",
   "execution_count": 146,
   "metadata": {},
   "outputs": [
    {
     "name": "stdout",
     "output_type": "stream",
     "text": [
      "attack               0\n",
      "base_total           0\n",
      "capture_rate         0\n",
      "defense              0\n",
      "experience_growth    0\n",
      "height_m             0\n",
      "hp                   0\n",
      "pokedex_number       0\n",
      "sp_attack            0\n",
      "sp_defense           0\n",
      "speed                0\n",
      "type1                0\n",
      "type2                0\n",
      "weight_kg            0\n",
      "generation           0\n",
      "is_legendary         0\n",
      "dtype: int64\n"
     ]
    }
   ],
   "source": [
    "# filling in missing values \n",
    "cols = ['height_m', 'weight_kg']\n",
    "for col in cols:\n",
    "    pokemon_data_ml[col].fillna(pokemon_data_ml[col].mean(), inplace=True)\n",
    "    \n",
    "pokemon_data_ml['type2'].fillna(0, inplace=True)\n",
    "\n",
    "#print to see if it worked \n",
    "print(pokemon_data_ml.isnull().sum())"
   ]
  },
  {
   "cell_type": "code",
   "execution_count": 147,
   "metadata": {},
   "outputs": [
    {
     "data": {
      "application/vnd.microsoft.datawrangler.viewer.v0+json": {
       "columns": [
        {
         "name": "index",
         "rawType": "int64",
         "type": "integer"
        },
        {
         "name": "attack",
         "rawType": "int64",
         "type": "integer"
        },
        {
         "name": "base_total",
         "rawType": "int64",
         "type": "integer"
        },
        {
         "name": "capture_rate",
         "rawType": "object",
         "type": "string"
        },
        {
         "name": "defense",
         "rawType": "int64",
         "type": "integer"
        },
        {
         "name": "experience_growth",
         "rawType": "int64",
         "type": "integer"
        },
        {
         "name": "height_m",
         "rawType": "float64",
         "type": "float"
        },
        {
         "name": "hp",
         "rawType": "int64",
         "type": "integer"
        },
        {
         "name": "pokedex_number",
         "rawType": "int64",
         "type": "integer"
        },
        {
         "name": "sp_attack",
         "rawType": "int64",
         "type": "integer"
        },
        {
         "name": "sp_defense",
         "rawType": "int64",
         "type": "integer"
        },
        {
         "name": "speed",
         "rawType": "int64",
         "type": "integer"
        },
        {
         "name": "weight_kg",
         "rawType": "float64",
         "type": "float"
        },
        {
         "name": "generation",
         "rawType": "int64",
         "type": "integer"
        },
        {
         "name": "is_legendary",
         "rawType": "int64",
         "type": "integer"
        },
        {
         "name": "type1_bug",
         "rawType": "uint8",
         "type": "integer"
        },
        {
         "name": "type1_dark",
         "rawType": "uint8",
         "type": "integer"
        },
        {
         "name": "type1_dragon",
         "rawType": "uint8",
         "type": "integer"
        },
        {
         "name": "type1_electric",
         "rawType": "uint8",
         "type": "integer"
        },
        {
         "name": "type1_fairy",
         "rawType": "uint8",
         "type": "integer"
        },
        {
         "name": "type1_fighting",
         "rawType": "uint8",
         "type": "integer"
        },
        {
         "name": "type1_fire",
         "rawType": "uint8",
         "type": "integer"
        },
        {
         "name": "type1_flying",
         "rawType": "uint8",
         "type": "integer"
        },
        {
         "name": "type1_ghost",
         "rawType": "uint8",
         "type": "integer"
        },
        {
         "name": "type1_grass",
         "rawType": "uint8",
         "type": "integer"
        },
        {
         "name": "type1_ground",
         "rawType": "uint8",
         "type": "integer"
        },
        {
         "name": "type1_ice",
         "rawType": "uint8",
         "type": "integer"
        },
        {
         "name": "type1_normal",
         "rawType": "uint8",
         "type": "integer"
        },
        {
         "name": "type1_poison",
         "rawType": "uint8",
         "type": "integer"
        },
        {
         "name": "type1_psychic",
         "rawType": "uint8",
         "type": "integer"
        },
        {
         "name": "type1_rock",
         "rawType": "uint8",
         "type": "integer"
        },
        {
         "name": "type1_steel",
         "rawType": "uint8",
         "type": "integer"
        },
        {
         "name": "type1_water",
         "rawType": "uint8",
         "type": "integer"
        },
        {
         "name": "type2_0",
         "rawType": "uint8",
         "type": "integer"
        },
        {
         "name": "type2_bug",
         "rawType": "uint8",
         "type": "integer"
        },
        {
         "name": "type2_dark",
         "rawType": "uint8",
         "type": "integer"
        },
        {
         "name": "type2_dragon",
         "rawType": "uint8",
         "type": "integer"
        },
        {
         "name": "type2_electric",
         "rawType": "uint8",
         "type": "integer"
        },
        {
         "name": "type2_fairy",
         "rawType": "uint8",
         "type": "integer"
        },
        {
         "name": "type2_fighting",
         "rawType": "uint8",
         "type": "integer"
        },
        {
         "name": "type2_fire",
         "rawType": "uint8",
         "type": "integer"
        },
        {
         "name": "type2_flying",
         "rawType": "uint8",
         "type": "integer"
        },
        {
         "name": "type2_ghost",
         "rawType": "uint8",
         "type": "integer"
        },
        {
         "name": "type2_grass",
         "rawType": "uint8",
         "type": "integer"
        },
        {
         "name": "type2_ground",
         "rawType": "uint8",
         "type": "integer"
        },
        {
         "name": "type2_ice",
         "rawType": "uint8",
         "type": "integer"
        },
        {
         "name": "type2_normal",
         "rawType": "uint8",
         "type": "integer"
        },
        {
         "name": "type2_poison",
         "rawType": "uint8",
         "type": "integer"
        },
        {
         "name": "type2_psychic",
         "rawType": "uint8",
         "type": "integer"
        },
        {
         "name": "type2_rock",
         "rawType": "uint8",
         "type": "integer"
        },
        {
         "name": "type2_steel",
         "rawType": "uint8",
         "type": "integer"
        },
        {
         "name": "type2_water",
         "rawType": "uint8",
         "type": "integer"
        }
       ],
       "conversionMethod": "pd.DataFrame",
       "ref": "802c523b-4686-4552-870b-f0a9b82f605f",
       "rows": [
        [
         "0",
         "49",
         "318",
         "45",
         "49",
         "1059860",
         "0.7",
         "45",
         "1",
         "65",
         "65",
         "45",
         "6.9",
         "1",
         "0",
         "0",
         "0",
         "0",
         "0",
         "0",
         "0",
         "0",
         "0",
         "0",
         "1",
         "0",
         "0",
         "0",
         "0",
         "0",
         "0",
         "0",
         "0",
         "0",
         "0",
         "0",
         "0",
         "0",
         "0",
         "0",
         "0",
         "0",
         "0",
         "0",
         "0",
         "0",
         "0",
         "1",
         "0",
         "0",
         "0",
         "0"
        ],
        [
         "1",
         "62",
         "405",
         "45",
         "63",
         "1059860",
         "1.0",
         "60",
         "2",
         "80",
         "80",
         "60",
         "13.0",
         "1",
         "0",
         "0",
         "0",
         "0",
         "0",
         "0",
         "0",
         "0",
         "0",
         "0",
         "1",
         "0",
         "0",
         "0",
         "0",
         "0",
         "0",
         "0",
         "0",
         "0",
         "0",
         "0",
         "0",
         "0",
         "0",
         "0",
         "0",
         "0",
         "0",
         "0",
         "0",
         "0",
         "0",
         "1",
         "0",
         "0",
         "0",
         "0"
        ],
        [
         "2",
         "100",
         "625",
         "45",
         "123",
         "1059860",
         "2.0",
         "80",
         "3",
         "122",
         "120",
         "80",
         "100.0",
         "1",
         "0",
         "0",
         "0",
         "0",
         "0",
         "0",
         "0",
         "0",
         "0",
         "0",
         "1",
         "0",
         "0",
         "0",
         "0",
         "0",
         "0",
         "0",
         "0",
         "0",
         "0",
         "0",
         "0",
         "0",
         "0",
         "0",
         "0",
         "0",
         "0",
         "0",
         "0",
         "0",
         "0",
         "1",
         "0",
         "0",
         "0",
         "0"
        ],
        [
         "3",
         "52",
         "309",
         "45",
         "43",
         "1059860",
         "0.6",
         "39",
         "4",
         "60",
         "50",
         "65",
         "8.5",
         "1",
         "0",
         "0",
         "0",
         "0",
         "0",
         "0",
         "0",
         "1",
         "0",
         "0",
         "0",
         "0",
         "0",
         "0",
         "0",
         "0",
         "0",
         "0",
         "0",
         "1",
         "0",
         "0",
         "0",
         "0",
         "0",
         "0",
         "0",
         "0",
         "0",
         "0",
         "0",
         "0",
         "0",
         "0",
         "0",
         "0",
         "0",
         "0"
        ],
        [
         "4",
         "64",
         "405",
         "45",
         "58",
         "1059860",
         "1.1",
         "58",
         "5",
         "80",
         "65",
         "80",
         "19.0",
         "1",
         "0",
         "0",
         "0",
         "0",
         "0",
         "0",
         "0",
         "1",
         "0",
         "0",
         "0",
         "0",
         "0",
         "0",
         "0",
         "0",
         "0",
         "0",
         "0",
         "1",
         "0",
         "0",
         "0",
         "0",
         "0",
         "0",
         "0",
         "0",
         "0",
         "0",
         "0",
         "0",
         "0",
         "0",
         "0",
         "0",
         "0",
         "0"
        ]
       ],
       "shape": {
        "columns": 51,
        "rows": 5
       }
      },
      "text/html": [
       "<div>\n",
       "<style scoped>\n",
       "    .dataframe tbody tr th:only-of-type {\n",
       "        vertical-align: middle;\n",
       "    }\n",
       "\n",
       "    .dataframe tbody tr th {\n",
       "        vertical-align: top;\n",
       "    }\n",
       "\n",
       "    .dataframe thead th {\n",
       "        text-align: right;\n",
       "    }\n",
       "</style>\n",
       "<table border=\"1\" class=\"dataframe\">\n",
       "  <thead>\n",
       "    <tr style=\"text-align: right;\">\n",
       "      <th></th>\n",
       "      <th>attack</th>\n",
       "      <th>base_total</th>\n",
       "      <th>capture_rate</th>\n",
       "      <th>defense</th>\n",
       "      <th>experience_growth</th>\n",
       "      <th>height_m</th>\n",
       "      <th>hp</th>\n",
       "      <th>pokedex_number</th>\n",
       "      <th>sp_attack</th>\n",
       "      <th>sp_defense</th>\n",
       "      <th>...</th>\n",
       "      <th>type2_ghost</th>\n",
       "      <th>type2_grass</th>\n",
       "      <th>type2_ground</th>\n",
       "      <th>type2_ice</th>\n",
       "      <th>type2_normal</th>\n",
       "      <th>type2_poison</th>\n",
       "      <th>type2_psychic</th>\n",
       "      <th>type2_rock</th>\n",
       "      <th>type2_steel</th>\n",
       "      <th>type2_water</th>\n",
       "    </tr>\n",
       "  </thead>\n",
       "  <tbody>\n",
       "    <tr>\n",
       "      <th>0</th>\n",
       "      <td>49</td>\n",
       "      <td>318</td>\n",
       "      <td>45</td>\n",
       "      <td>49</td>\n",
       "      <td>1059860</td>\n",
       "      <td>0.7</td>\n",
       "      <td>45</td>\n",
       "      <td>1</td>\n",
       "      <td>65</td>\n",
       "      <td>65</td>\n",
       "      <td>...</td>\n",
       "      <td>0</td>\n",
       "      <td>0</td>\n",
       "      <td>0</td>\n",
       "      <td>0</td>\n",
       "      <td>0</td>\n",
       "      <td>1</td>\n",
       "      <td>0</td>\n",
       "      <td>0</td>\n",
       "      <td>0</td>\n",
       "      <td>0</td>\n",
       "    </tr>\n",
       "    <tr>\n",
       "      <th>1</th>\n",
       "      <td>62</td>\n",
       "      <td>405</td>\n",
       "      <td>45</td>\n",
       "      <td>63</td>\n",
       "      <td>1059860</td>\n",
       "      <td>1.0</td>\n",
       "      <td>60</td>\n",
       "      <td>2</td>\n",
       "      <td>80</td>\n",
       "      <td>80</td>\n",
       "      <td>...</td>\n",
       "      <td>0</td>\n",
       "      <td>0</td>\n",
       "      <td>0</td>\n",
       "      <td>0</td>\n",
       "      <td>0</td>\n",
       "      <td>1</td>\n",
       "      <td>0</td>\n",
       "      <td>0</td>\n",
       "      <td>0</td>\n",
       "      <td>0</td>\n",
       "    </tr>\n",
       "    <tr>\n",
       "      <th>2</th>\n",
       "      <td>100</td>\n",
       "      <td>625</td>\n",
       "      <td>45</td>\n",
       "      <td>123</td>\n",
       "      <td>1059860</td>\n",
       "      <td>2.0</td>\n",
       "      <td>80</td>\n",
       "      <td>3</td>\n",
       "      <td>122</td>\n",
       "      <td>120</td>\n",
       "      <td>...</td>\n",
       "      <td>0</td>\n",
       "      <td>0</td>\n",
       "      <td>0</td>\n",
       "      <td>0</td>\n",
       "      <td>0</td>\n",
       "      <td>1</td>\n",
       "      <td>0</td>\n",
       "      <td>0</td>\n",
       "      <td>0</td>\n",
       "      <td>0</td>\n",
       "    </tr>\n",
       "    <tr>\n",
       "      <th>3</th>\n",
       "      <td>52</td>\n",
       "      <td>309</td>\n",
       "      <td>45</td>\n",
       "      <td>43</td>\n",
       "      <td>1059860</td>\n",
       "      <td>0.6</td>\n",
       "      <td>39</td>\n",
       "      <td>4</td>\n",
       "      <td>60</td>\n",
       "      <td>50</td>\n",
       "      <td>...</td>\n",
       "      <td>0</td>\n",
       "      <td>0</td>\n",
       "      <td>0</td>\n",
       "      <td>0</td>\n",
       "      <td>0</td>\n",
       "      <td>0</td>\n",
       "      <td>0</td>\n",
       "      <td>0</td>\n",
       "      <td>0</td>\n",
       "      <td>0</td>\n",
       "    </tr>\n",
       "    <tr>\n",
       "      <th>4</th>\n",
       "      <td>64</td>\n",
       "      <td>405</td>\n",
       "      <td>45</td>\n",
       "      <td>58</td>\n",
       "      <td>1059860</td>\n",
       "      <td>1.1</td>\n",
       "      <td>58</td>\n",
       "      <td>5</td>\n",
       "      <td>80</td>\n",
       "      <td>65</td>\n",
       "      <td>...</td>\n",
       "      <td>0</td>\n",
       "      <td>0</td>\n",
       "      <td>0</td>\n",
       "      <td>0</td>\n",
       "      <td>0</td>\n",
       "      <td>0</td>\n",
       "      <td>0</td>\n",
       "      <td>0</td>\n",
       "      <td>0</td>\n",
       "      <td>0</td>\n",
       "    </tr>\n",
       "  </tbody>\n",
       "</table>\n",
       "<p>5 rows × 51 columns</p>\n",
       "</div>"
      ],
      "text/plain": [
       "   attack  base_total capture_rate  defense  experience_growth  height_m  hp  \\\n",
       "0      49         318           45       49            1059860       0.7  45   \n",
       "1      62         405           45       63            1059860       1.0  60   \n",
       "2     100         625           45      123            1059860       2.0  80   \n",
       "3      52         309           45       43            1059860       0.6  39   \n",
       "4      64         405           45       58            1059860       1.1  58   \n",
       "\n",
       "   pokedex_number  sp_attack  sp_defense  ...  type2_ghost  type2_grass  \\\n",
       "0               1         65          65  ...            0            0   \n",
       "1               2         80          80  ...            0            0   \n",
       "2               3        122         120  ...            0            0   \n",
       "3               4         60          50  ...            0            0   \n",
       "4               5         80          65  ...            0            0   \n",
       "\n",
       "   type2_ground  type2_ice  type2_normal  type2_poison  type2_psychic  \\\n",
       "0             0          0             0             1              0   \n",
       "1             0          0             0             1              0   \n",
       "2             0          0             0             1              0   \n",
       "3             0          0             0             0              0   \n",
       "4             0          0             0             0              0   \n",
       "\n",
       "   type2_rock  type2_steel  type2_water  \n",
       "0           0            0            0  \n",
       "1           0            0            0  \n",
       "2           0            0            0  \n",
       "3           0            0            0  \n",
       "4           0            0            0  \n",
       "\n",
       "[5 rows x 51 columns]"
      ]
     },
     "execution_count": 147,
     "metadata": {},
     "output_type": "execute_result"
    }
   ],
   "source": [
    "#one hot encoding for the types (I dont think it will matter much)\n",
    "def one_hot_encode_types(data):\n",
    "    return pd.get_dummies(data, columns=['type1', 'type2'], drop_first=False)\n",
    "\n",
    "pokemon_data_ml_encoded = one_hot_encode_types(pokemon_data_ml)\n",
    "pokemon_data_ml_encoded.head()\n"
   ]
  },
  {
   "cell_type": "code",
   "execution_count": 150,
   "metadata": {},
   "outputs": [
    {
     "data": {
      "text/plain": [
       "Index(['attack', 'base_total', 'capture_rate', 'defense', 'experience_growth',\n",
       "       'height_m', 'hp', 'pokedex_number', 'sp_attack', 'sp_defense', 'speed',\n",
       "       'weight_kg', 'generation', 'is_legendary', 'type1_bug', 'type1_dark',\n",
       "       'type1_dragon', 'type1_electric', 'type1_fairy', 'type1_fighting',\n",
       "       'type1_fire', 'type1_flying', 'type1_ghost', 'type1_grass',\n",
       "       'type1_ground', 'type1_ice', 'type1_normal', 'type1_poison',\n",
       "       'type1_psychic', 'type1_rock', 'type1_steel', 'type1_water', 'type2_0',\n",
       "       'type2_bug', 'type2_dark', 'type2_dragon', 'type2_electric',\n",
       "       'type2_fairy', 'type2_fighting', 'type2_fire', 'type2_flying',\n",
       "       'type2_ghost', 'type2_grass', 'type2_ground', 'type2_ice',\n",
       "       'type2_normal', 'type2_poison', 'type2_psychic', 'type2_rock',\n",
       "       'type2_steel', 'type2_water'],\n",
       "      dtype='object')"
      ]
     },
     "execution_count": 150,
     "metadata": {},
     "output_type": "execute_result"
    }
   ],
   "source": [
    "pokemon_data_ml_encoded.columns"
   ]
  },
  {
   "cell_type": "code",
   "execution_count": 151,
   "metadata": {},
   "outputs": [
    {
     "name": "stdout",
     "output_type": "stream",
     "text": [
      "Index(['capture_rate'], dtype='object')\n"
     ]
    }
   ],
   "source": [
    "non_numeric_cols = pokemon_data_ml_encoded.select_dtypes(exclude=['number']).columns\n",
    "print(non_numeric_cols)\n"
   ]
  },
  {
   "cell_type": "code",
   "execution_count": null,
   "metadata": {},
   "outputs": [
    {
     "name": "stdout",
     "output_type": "stream",
     "text": [
      "['45' '255' '120' '127' '90' '190' '75' '235' '150' '25' '170' '50' '200'\n",
      " '100' '180' '60' '225' '30' '35' '3' '65' '70' '125' '205' '155' '145'\n",
      " '130' '140' '15' '220' '160' '80' '55' '30 (Meteorite)255 (Core)']\n"
     ]
    }
   ],
   "source": [
    "print(pokemon_data_ml_encoded['capture_rate'].unique())\n"
   ]
  },
  {
   "cell_type": "code",
   "execution_count": 153,
   "metadata": {},
   "outputs": [
    {
     "data": {
      "application/vnd.microsoft.datawrangler.viewer.v0+json": {
       "columns": [
        {
         "name": "index",
         "rawType": "int64",
         "type": "integer"
        },
        {
         "name": "attack",
         "rawType": "int64",
         "type": "integer"
        },
        {
         "name": "base_total",
         "rawType": "int64",
         "type": "integer"
        },
        {
         "name": "capture_rate",
         "rawType": "object",
         "type": "string"
        },
        {
         "name": "defense",
         "rawType": "int64",
         "type": "integer"
        },
        {
         "name": "experience_growth",
         "rawType": "int64",
         "type": "integer"
        },
        {
         "name": "height_m",
         "rawType": "float64",
         "type": "float"
        },
        {
         "name": "hp",
         "rawType": "int64",
         "type": "integer"
        },
        {
         "name": "pokedex_number",
         "rawType": "int64",
         "type": "integer"
        },
        {
         "name": "sp_attack",
         "rawType": "int64",
         "type": "integer"
        },
        {
         "name": "sp_defense",
         "rawType": "int64",
         "type": "integer"
        },
        {
         "name": "speed",
         "rawType": "int64",
         "type": "integer"
        },
        {
         "name": "weight_kg",
         "rawType": "float64",
         "type": "float"
        },
        {
         "name": "generation",
         "rawType": "int64",
         "type": "integer"
        },
        {
         "name": "is_legendary",
         "rawType": "int64",
         "type": "integer"
        },
        {
         "name": "type1_bug",
         "rawType": "uint8",
         "type": "integer"
        },
        {
         "name": "type1_dark",
         "rawType": "uint8",
         "type": "integer"
        },
        {
         "name": "type1_dragon",
         "rawType": "uint8",
         "type": "integer"
        },
        {
         "name": "type1_electric",
         "rawType": "uint8",
         "type": "integer"
        },
        {
         "name": "type1_fairy",
         "rawType": "uint8",
         "type": "integer"
        },
        {
         "name": "type1_fighting",
         "rawType": "uint8",
         "type": "integer"
        },
        {
         "name": "type1_fire",
         "rawType": "uint8",
         "type": "integer"
        },
        {
         "name": "type1_flying",
         "rawType": "uint8",
         "type": "integer"
        },
        {
         "name": "type1_ghost",
         "rawType": "uint8",
         "type": "integer"
        },
        {
         "name": "type1_grass",
         "rawType": "uint8",
         "type": "integer"
        },
        {
         "name": "type1_ground",
         "rawType": "uint8",
         "type": "integer"
        },
        {
         "name": "type1_ice",
         "rawType": "uint8",
         "type": "integer"
        },
        {
         "name": "type1_normal",
         "rawType": "uint8",
         "type": "integer"
        },
        {
         "name": "type1_poison",
         "rawType": "uint8",
         "type": "integer"
        },
        {
         "name": "type1_psychic",
         "rawType": "uint8",
         "type": "integer"
        },
        {
         "name": "type1_rock",
         "rawType": "uint8",
         "type": "integer"
        },
        {
         "name": "type1_steel",
         "rawType": "uint8",
         "type": "integer"
        },
        {
         "name": "type1_water",
         "rawType": "uint8",
         "type": "integer"
        },
        {
         "name": "type2_0",
         "rawType": "uint8",
         "type": "integer"
        },
        {
         "name": "type2_bug",
         "rawType": "uint8",
         "type": "integer"
        },
        {
         "name": "type2_dark",
         "rawType": "uint8",
         "type": "integer"
        },
        {
         "name": "type2_dragon",
         "rawType": "uint8",
         "type": "integer"
        },
        {
         "name": "type2_electric",
         "rawType": "uint8",
         "type": "integer"
        },
        {
         "name": "type2_fairy",
         "rawType": "uint8",
         "type": "integer"
        },
        {
         "name": "type2_fighting",
         "rawType": "uint8",
         "type": "integer"
        },
        {
         "name": "type2_fire",
         "rawType": "uint8",
         "type": "integer"
        },
        {
         "name": "type2_flying",
         "rawType": "uint8",
         "type": "integer"
        },
        {
         "name": "type2_ghost",
         "rawType": "uint8",
         "type": "integer"
        },
        {
         "name": "type2_grass",
         "rawType": "uint8",
         "type": "integer"
        },
        {
         "name": "type2_ground",
         "rawType": "uint8",
         "type": "integer"
        },
        {
         "name": "type2_ice",
         "rawType": "uint8",
         "type": "integer"
        },
        {
         "name": "type2_normal",
         "rawType": "uint8",
         "type": "integer"
        },
        {
         "name": "type2_poison",
         "rawType": "uint8",
         "type": "integer"
        },
        {
         "name": "type2_psychic",
         "rawType": "uint8",
         "type": "integer"
        },
        {
         "name": "type2_rock",
         "rawType": "uint8",
         "type": "integer"
        },
        {
         "name": "type2_steel",
         "rawType": "uint8",
         "type": "integer"
        },
        {
         "name": "type2_water",
         "rawType": "uint8",
         "type": "integer"
        }
       ],
       "conversionMethod": "pd.DataFrame",
       "ref": "06fa9ddd-783e-42d4-a856-c66ed5875b0f",
       "rows": [
        [
         "773",
         "100",
         "500",
         "30 (Meteorite)255 (Core)",
         "60",
         "1059860",
         "0.3",
         "60",
         "774",
         "100",
         "60",
         "120",
         "40.0",
         "7",
         "0",
         "0",
         "0",
         "0",
         "0",
         "0",
         "0",
         "0",
         "0",
         "0",
         "0",
         "0",
         "0",
         "0",
         "0",
         "0",
         "1",
         "0",
         "0",
         "0",
         "0",
         "0",
         "0",
         "0",
         "0",
         "0",
         "0",
         "1",
         "0",
         "0",
         "0",
         "0",
         "0",
         "0",
         "0",
         "0",
         "0",
         "0"
        ]
       ],
       "shape": {
        "columns": 51,
        "rows": 1
       }
      },
      "text/html": [
       "<div>\n",
       "<style scoped>\n",
       "    .dataframe tbody tr th:only-of-type {\n",
       "        vertical-align: middle;\n",
       "    }\n",
       "\n",
       "    .dataframe tbody tr th {\n",
       "        vertical-align: top;\n",
       "    }\n",
       "\n",
       "    .dataframe thead th {\n",
       "        text-align: right;\n",
       "    }\n",
       "</style>\n",
       "<table border=\"1\" class=\"dataframe\">\n",
       "  <thead>\n",
       "    <tr style=\"text-align: right;\">\n",
       "      <th></th>\n",
       "      <th>attack</th>\n",
       "      <th>base_total</th>\n",
       "      <th>capture_rate</th>\n",
       "      <th>defense</th>\n",
       "      <th>experience_growth</th>\n",
       "      <th>height_m</th>\n",
       "      <th>hp</th>\n",
       "      <th>pokedex_number</th>\n",
       "      <th>sp_attack</th>\n",
       "      <th>sp_defense</th>\n",
       "      <th>...</th>\n",
       "      <th>type2_ghost</th>\n",
       "      <th>type2_grass</th>\n",
       "      <th>type2_ground</th>\n",
       "      <th>type2_ice</th>\n",
       "      <th>type2_normal</th>\n",
       "      <th>type2_poison</th>\n",
       "      <th>type2_psychic</th>\n",
       "      <th>type2_rock</th>\n",
       "      <th>type2_steel</th>\n",
       "      <th>type2_water</th>\n",
       "    </tr>\n",
       "  </thead>\n",
       "  <tbody>\n",
       "    <tr>\n",
       "      <th>773</th>\n",
       "      <td>100</td>\n",
       "      <td>500</td>\n",
       "      <td>30 (Meteorite)255 (Core)</td>\n",
       "      <td>60</td>\n",
       "      <td>1059860</td>\n",
       "      <td>0.3</td>\n",
       "      <td>60</td>\n",
       "      <td>774</td>\n",
       "      <td>100</td>\n",
       "      <td>60</td>\n",
       "      <td>...</td>\n",
       "      <td>0</td>\n",
       "      <td>0</td>\n",
       "      <td>0</td>\n",
       "      <td>0</td>\n",
       "      <td>0</td>\n",
       "      <td>0</td>\n",
       "      <td>0</td>\n",
       "      <td>0</td>\n",
       "      <td>0</td>\n",
       "      <td>0</td>\n",
       "    </tr>\n",
       "  </tbody>\n",
       "</table>\n",
       "<p>1 rows × 51 columns</p>\n",
       "</div>"
      ],
      "text/plain": [
       "     attack  base_total              capture_rate  defense  experience_growth  \\\n",
       "773     100         500  30 (Meteorite)255 (Core)       60            1059860   \n",
       "\n",
       "     height_m  hp  pokedex_number  sp_attack  sp_defense  ...  type2_ghost  \\\n",
       "773       0.3  60             774        100          60  ...            0   \n",
       "\n",
       "     type2_grass  type2_ground  type2_ice  type2_normal  type2_poison  \\\n",
       "773            0             0          0             0             0   \n",
       "\n",
       "     type2_psychic  type2_rock  type2_steel  type2_water  \n",
       "773              0           0            0            0  \n",
       "\n",
       "[1 rows x 51 columns]"
      ]
     },
     "execution_count": 153,
     "metadata": {},
     "output_type": "execute_result"
    }
   ],
   "source": [
    "pokemon_data_ml_encoded[pokemon_data_ml_encoded['capture_rate'] == '30 (Meteorite)255 (Core)']\n"
   ]
  },
  {
   "cell_type": "code",
   "execution_count": 154,
   "metadata": {},
   "outputs": [
    {
     "name": "stderr",
     "output_type": "stream",
     "text": [
      "/var/folders/8b/s88jkrbj1mvfd3mw0qp8dllr0000gn/T/ipykernel_45998/2270917645.py:5: SettingWithCopyWarning: \n",
      "A value is trying to be set on a copy of a slice from a DataFrame.\n",
      "Try using .loc[row_indexer,col_indexer] = value instead\n",
      "\n",
      "See the caveats in the documentation: https://pandas.pydata.org/pandas-docs/stable/user_guide/indexing.html#returning-a-view-versus-a-copy\n",
      "  pokemon_data_ml_encoded['capture_rate'] = pd.to_numeric(pokemon_data_ml_encoded['capture_rate'])\n"
     ]
    }
   ],
   "source": [
    "#drop the row\n",
    "pokemon_data_ml_encoded = pokemon_data_ml_encoded[pokemon_data_ml_encoded['capture_rate'] != '30 (Meteorite)255 (Core)']\n",
    "\n",
    "#convert to int \n",
    "pokemon_data_ml_encoded['capture_rate'] = pd.to_numeric(pokemon_data_ml_encoded['capture_rate'])\n"
   ]
  },
  {
   "cell_type": "code",
   "execution_count": 155,
   "metadata": {},
   "outputs": [
    {
     "name": "stdout",
     "output_type": "stream",
     "text": [
      "Index([], dtype='object')\n"
     ]
    }
   ],
   "source": [
    "non_numeric_cols = pokemon_data_ml_encoded.select_dtypes(exclude=['number']).columns\n",
    "print(non_numeric_cols)"
   ]
  },
  {
   "cell_type": "markdown",
   "metadata": {},
   "source": [
    "# Some Machine Learning, why not?"
   ]
  },
  {
   "cell_type": "markdown",
   "metadata": {},
   "source": [
    "## Logestic Regression"
   ]
  },
  {
   "cell_type": "code",
   "execution_count": 157,
   "metadata": {},
   "outputs": [],
   "source": [
    "X = pokemon_data_ml_encoded.drop('is_legendary', axis=1)\n",
    "y = pokemon_data_ml_encoded['is_legendary']\n"
   ]
  },
  {
   "cell_type": "code",
   "execution_count": 159,
   "metadata": {},
   "outputs": [],
   "source": [
    "# train test split \n",
    "X_train, X_test, y_train, y_test = train_test_split(X, y, test_size=0.2, random_state=42)"
   ]
  },
  {
   "cell_type": "code",
   "execution_count": 160,
   "metadata": {},
   "outputs": [
    {
     "data": {
      "text/html": [
       "<style>#sk-container-id-1 {color: black;}#sk-container-id-1 pre{padding: 0;}#sk-container-id-1 div.sk-toggleable {background-color: white;}#sk-container-id-1 label.sk-toggleable__label {cursor: pointer;display: block;width: 100%;margin-bottom: 0;padding: 0.3em;box-sizing: border-box;text-align: center;}#sk-container-id-1 label.sk-toggleable__label-arrow:before {content: \"▸\";float: left;margin-right: 0.25em;color: #696969;}#sk-container-id-1 label.sk-toggleable__label-arrow:hover:before {color: black;}#sk-container-id-1 div.sk-estimator:hover label.sk-toggleable__label-arrow:before {color: black;}#sk-container-id-1 div.sk-toggleable__content {max-height: 0;max-width: 0;overflow: hidden;text-align: left;background-color: #f0f8ff;}#sk-container-id-1 div.sk-toggleable__content pre {margin: 0.2em;color: black;border-radius: 0.25em;background-color: #f0f8ff;}#sk-container-id-1 input.sk-toggleable__control:checked~div.sk-toggleable__content {max-height: 200px;max-width: 100%;overflow: auto;}#sk-container-id-1 input.sk-toggleable__control:checked~label.sk-toggleable__label-arrow:before {content: \"▾\";}#sk-container-id-1 div.sk-estimator input.sk-toggleable__control:checked~label.sk-toggleable__label {background-color: #d4ebff;}#sk-container-id-1 div.sk-label input.sk-toggleable__control:checked~label.sk-toggleable__label {background-color: #d4ebff;}#sk-container-id-1 input.sk-hidden--visually {border: 0;clip: rect(1px 1px 1px 1px);clip: rect(1px, 1px, 1px, 1px);height: 1px;margin: -1px;overflow: hidden;padding: 0;position: absolute;width: 1px;}#sk-container-id-1 div.sk-estimator {font-family: monospace;background-color: #f0f8ff;border: 1px dotted black;border-radius: 0.25em;box-sizing: border-box;margin-bottom: 0.5em;}#sk-container-id-1 div.sk-estimator:hover {background-color: #d4ebff;}#sk-container-id-1 div.sk-parallel-item::after {content: \"\";width: 100%;border-bottom: 1px solid gray;flex-grow: 1;}#sk-container-id-1 div.sk-label:hover label.sk-toggleable__label {background-color: #d4ebff;}#sk-container-id-1 div.sk-serial::before {content: \"\";position: absolute;border-left: 1px solid gray;box-sizing: border-box;top: 0;bottom: 0;left: 50%;z-index: 0;}#sk-container-id-1 div.sk-serial {display: flex;flex-direction: column;align-items: center;background-color: white;padding-right: 0.2em;padding-left: 0.2em;position: relative;}#sk-container-id-1 div.sk-item {position: relative;z-index: 1;}#sk-container-id-1 div.sk-parallel {display: flex;align-items: stretch;justify-content: center;background-color: white;position: relative;}#sk-container-id-1 div.sk-item::before, #sk-container-id-1 div.sk-parallel-item::before {content: \"\";position: absolute;border-left: 1px solid gray;box-sizing: border-box;top: 0;bottom: 0;left: 50%;z-index: -1;}#sk-container-id-1 div.sk-parallel-item {display: flex;flex-direction: column;z-index: 1;position: relative;background-color: white;}#sk-container-id-1 div.sk-parallel-item:first-child::after {align-self: flex-end;width: 50%;}#sk-container-id-1 div.sk-parallel-item:last-child::after {align-self: flex-start;width: 50%;}#sk-container-id-1 div.sk-parallel-item:only-child::after {width: 0;}#sk-container-id-1 div.sk-dashed-wrapped {border: 1px dashed gray;margin: 0 0.4em 0.5em 0.4em;box-sizing: border-box;padding-bottom: 0.4em;background-color: white;}#sk-container-id-1 div.sk-label label {font-family: monospace;font-weight: bold;display: inline-block;line-height: 1.2em;}#sk-container-id-1 div.sk-label-container {text-align: center;}#sk-container-id-1 div.sk-container {/* jupyter's `normalize.less` sets `[hidden] { display: none; }` but bootstrap.min.css set `[hidden] { display: none !important; }` so we also need the `!important` here to be able to override the default hidden behavior on the sphinx rendered scikit-learn.org. See: https://github.com/scikit-learn/scikit-learn/issues/21755 */display: inline-block !important;position: relative;}#sk-container-id-1 div.sk-text-repr-fallback {display: none;}</style><div id=\"sk-container-id-1\" class=\"sk-top-container\"><div class=\"sk-text-repr-fallback\"><pre>LogisticRegression(max_iter=1000)</pre><b>In a Jupyter environment, please rerun this cell to show the HTML representation or trust the notebook. <br />On GitHub, the HTML representation is unable to render, please try loading this page with nbviewer.org.</b></div><div class=\"sk-container\" hidden><div class=\"sk-item\"><div class=\"sk-estimator sk-toggleable\"><input class=\"sk-toggleable__control sk-hidden--visually\" id=\"sk-estimator-id-1\" type=\"checkbox\" checked><label for=\"sk-estimator-id-1\" class=\"sk-toggleable__label sk-toggleable__label-arrow\">LogisticRegression</label><div class=\"sk-toggleable__content\"><pre>LogisticRegression(max_iter=1000)</pre></div></div></div></div></div>"
      ],
      "text/plain": [
       "LogisticRegression(max_iter=1000)"
      ]
     },
     "execution_count": 160,
     "metadata": {},
     "output_type": "execute_result"
    }
   ],
   "source": [
    "# defin the model object and fit the data \n",
    "model = LogisticRegression(max_iter=1000)\n",
    "model.fit(X_train, y_train)"
   ]
  },
  {
   "cell_type": "code",
   "execution_count": 161,
   "metadata": {},
   "outputs": [
    {
     "name": "stdout",
     "output_type": "stream",
     "text": [
      "Accuracy: 0.96875\n",
      "\n",
      "Confusion Matrix:\n",
      " [[139   0]\n",
      " [  5  16]]\n",
      "\n",
      "Classification Report:\n",
      "               precision    recall  f1-score   support\n",
      "\n",
      "           0       0.97      1.00      0.98       139\n",
      "           1       1.00      0.76      0.86        21\n",
      "\n",
      "    accuracy                           0.97       160\n",
      "   macro avg       0.98      0.88      0.92       160\n",
      "weighted avg       0.97      0.97      0.97       160\n",
      "\n"
     ]
    }
   ],
   "source": [
    "#Prediction and Eval \n",
    "y_pred = model.predict(X_test)\n",
    "\n",
    "print(\"Accuracy:\", accuracy_score(y_test, y_pred))\n",
    "print(\"\\nConfusion Matrix:\\n\", confusion_matrix(y_test, y_pred))\n",
    "print(\"\\nClassification Report:\\n\", classification_report(y_test, y_pred))"
   ]
  },
  {
   "cell_type": "code",
   "execution_count": null,
   "metadata": {},
   "outputs": [
    {
     "name": "stdout",
     "output_type": "stream",
     "text": [
      "Accuracy: 0.95\n",
      "\n",
      "Confusion Matrix:\n",
      " [[137   2]\n",
      " [  6  15]]\n",
      "\n",
      "Classification Report:\n",
      "               precision    recall  f1-score   support\n",
      "\n",
      "           0       0.96      0.99      0.97       139\n",
      "           1       0.88      0.71      0.79        21\n",
      "\n",
      "    accuracy                           0.95       160\n",
      "   macro avg       0.92      0.85      0.88       160\n",
      "weighted avg       0.95      0.95      0.95       160\n",
      "\n"
     ]
    }
   ],
   "source": [
    "# Normalize\n",
    "scaler = StandardScaler()\n",
    "X_train = scaler.fit_transform(X_train)\n",
    "X_test = scaler.transform(X_test)\n",
    "\n",
    "model.fit(X_train, y_train)\n",
    "\n",
    "#Prediction and Eval \n",
    "y_pred = model.predict(X_test)\n",
    "\n",
    "print(\"Accuracy:\", accuracy_score(y_test, y_pred))\n",
    "print(\"\\nConfusion Matrix:\\n\", confusion_matrix(y_test, y_pred))\n",
    "\n",
    "print(\"\\nClassification Report:\\n\", classification_report(y_test, y_pred))"
   ]
  },
  {
   "cell_type": "markdown",
   "metadata": {},
   "source": [
    "### Lets now plot a decsion boundry in 2D space using capture rate and attack "
   ]
  },
  {
   "cell_type": "code",
   "execution_count": null,
   "metadata": {},
   "outputs": [
    {
     "data": {
      "text/html": [
       "<style>#sk-container-id-2 {color: black;}#sk-container-id-2 pre{padding: 0;}#sk-container-id-2 div.sk-toggleable {background-color: white;}#sk-container-id-2 label.sk-toggleable__label {cursor: pointer;display: block;width: 100%;margin-bottom: 0;padding: 0.3em;box-sizing: border-box;text-align: center;}#sk-container-id-2 label.sk-toggleable__label-arrow:before {content: \"▸\";float: left;margin-right: 0.25em;color: #696969;}#sk-container-id-2 label.sk-toggleable__label-arrow:hover:before {color: black;}#sk-container-id-2 div.sk-estimator:hover label.sk-toggleable__label-arrow:before {color: black;}#sk-container-id-2 div.sk-toggleable__content {max-height: 0;max-width: 0;overflow: hidden;text-align: left;background-color: #f0f8ff;}#sk-container-id-2 div.sk-toggleable__content pre {margin: 0.2em;color: black;border-radius: 0.25em;background-color: #f0f8ff;}#sk-container-id-2 input.sk-toggleable__control:checked~div.sk-toggleable__content {max-height: 200px;max-width: 100%;overflow: auto;}#sk-container-id-2 input.sk-toggleable__control:checked~label.sk-toggleable__label-arrow:before {content: \"▾\";}#sk-container-id-2 div.sk-estimator input.sk-toggleable__control:checked~label.sk-toggleable__label {background-color: #d4ebff;}#sk-container-id-2 div.sk-label input.sk-toggleable__control:checked~label.sk-toggleable__label {background-color: #d4ebff;}#sk-container-id-2 input.sk-hidden--visually {border: 0;clip: rect(1px 1px 1px 1px);clip: rect(1px, 1px, 1px, 1px);height: 1px;margin: -1px;overflow: hidden;padding: 0;position: absolute;width: 1px;}#sk-container-id-2 div.sk-estimator {font-family: monospace;background-color: #f0f8ff;border: 1px dotted black;border-radius: 0.25em;box-sizing: border-box;margin-bottom: 0.5em;}#sk-container-id-2 div.sk-estimator:hover {background-color: #d4ebff;}#sk-container-id-2 div.sk-parallel-item::after {content: \"\";width: 100%;border-bottom: 1px solid gray;flex-grow: 1;}#sk-container-id-2 div.sk-label:hover label.sk-toggleable__label {background-color: #d4ebff;}#sk-container-id-2 div.sk-serial::before {content: \"\";position: absolute;border-left: 1px solid gray;box-sizing: border-box;top: 0;bottom: 0;left: 50%;z-index: 0;}#sk-container-id-2 div.sk-serial {display: flex;flex-direction: column;align-items: center;background-color: white;padding-right: 0.2em;padding-left: 0.2em;position: relative;}#sk-container-id-2 div.sk-item {position: relative;z-index: 1;}#sk-container-id-2 div.sk-parallel {display: flex;align-items: stretch;justify-content: center;background-color: white;position: relative;}#sk-container-id-2 div.sk-item::before, #sk-container-id-2 div.sk-parallel-item::before {content: \"\";position: absolute;border-left: 1px solid gray;box-sizing: border-box;top: 0;bottom: 0;left: 50%;z-index: -1;}#sk-container-id-2 div.sk-parallel-item {display: flex;flex-direction: column;z-index: 1;position: relative;background-color: white;}#sk-container-id-2 div.sk-parallel-item:first-child::after {align-self: flex-end;width: 50%;}#sk-container-id-2 div.sk-parallel-item:last-child::after {align-self: flex-start;width: 50%;}#sk-container-id-2 div.sk-parallel-item:only-child::after {width: 0;}#sk-container-id-2 div.sk-dashed-wrapped {border: 1px dashed gray;margin: 0 0.4em 0.5em 0.4em;box-sizing: border-box;padding-bottom: 0.4em;background-color: white;}#sk-container-id-2 div.sk-label label {font-family: monospace;font-weight: bold;display: inline-block;line-height: 1.2em;}#sk-container-id-2 div.sk-label-container {text-align: center;}#sk-container-id-2 div.sk-container {/* jupyter's `normalize.less` sets `[hidden] { display: none; }` but bootstrap.min.css set `[hidden] { display: none !important; }` so we also need the `!important` here to be able to override the default hidden behavior on the sphinx rendered scikit-learn.org. See: https://github.com/scikit-learn/scikit-learn/issues/21755 */display: inline-block !important;position: relative;}#sk-container-id-2 div.sk-text-repr-fallback {display: none;}</style><div id=\"sk-container-id-2\" class=\"sk-top-container\"><div class=\"sk-text-repr-fallback\"><pre>LogisticRegression()</pre><b>In a Jupyter environment, please rerun this cell to show the HTML representation or trust the notebook. <br />On GitHub, the HTML representation is unable to render, please try loading this page with nbviewer.org.</b></div><div class=\"sk-container\" hidden><div class=\"sk-item\"><div class=\"sk-estimator sk-toggleable\"><input class=\"sk-toggleable__control sk-hidden--visually\" id=\"sk-estimator-id-2\" type=\"checkbox\" checked><label for=\"sk-estimator-id-2\" class=\"sk-toggleable__label sk-toggleable__label-arrow\">LogisticRegression</label><div class=\"sk-toggleable__content\"><pre>LogisticRegression()</pre></div></div></div></div></div>"
      ],
      "text/plain": [
       "LogisticRegression()"
      ]
     },
     "execution_count": 177,
     "metadata": {},
     "output_type": "execute_result"
    }
   ],
   "source": [
    "# Pick two informative features (adjust these to your data)\n",
    "feature_cols = ['capture_rate', 'attack']\n",
    "X = pokemon_data_ml_encoded[feature_cols]\n",
    "y = pokemon_data_ml_encoded['is_legendary']\n",
    "\n",
    "# Scale the features\n",
    "scaler = StandardScaler()\n",
    "X_scaled = scaler.fit_transform(X)\n",
    "\n",
    "# Train logistic regression on 2D data\n",
    "model = LogisticRegression()\n",
    "model.fit(X_scaled, y)\n"
   ]
  },
  {
   "cell_type": "code",
   "execution_count": 178,
   "metadata": {},
   "outputs": [
    {
     "data": {
      "image/png": "[encoded data removed]",
      "text/plain": [
       "<Figure size 1000x600 with 1 Axes>"
      ]
     },
     "metadata": {},
     "output_type": "display_data"
    }
   ],
   "source": [
    "# Mesh grid for plotting\n",
    "h = 0.02\n",
    "x_min, x_max = X_scaled[:, 0].min() - 1, X_scaled[:, 0].max() + 1\n",
    "y_min, y_max = X_scaled[:, 1].min() - 1, X_scaled[:, 1].max() + 1\n",
    "xx, yy = np.meshgrid(np.arange(x_min, x_max, h),\n",
    "                     np.arange(y_min, y_max, h))\n",
    "\n",
    "# Predict over mesh grid\n",
    "Z = model.predict(np.c_[xx.ravel(), yy.ravel()])\n",
    "Z = Z.reshape(xx.shape)\n",
    "\n",
    "# Plot\n",
    "plt.figure(figsize=(10, 6))\n",
    "plt.contourf(xx, yy, Z, alpha=0.3, cmap=plt.cm.coolwarm)\n",
    "plt.scatter(X_scaled[:, 0], X_scaled[:, 1], c=y, edgecolors='k', cmap=plt.cm.coolwarm)\n",
    "plt.xlabel(feature_cols[0])\n",
    "plt.ylabel(feature_cols[1])\n",
    "plt.title(\"Logistic Regression Decision Boundary\")\n",
    "plt.show()\n"
   ]
  },
  {
   "cell_type": "markdown",
   "metadata": {},
   "source": [
    "Lets dive deep and find these outliers, call me curious "
   ]
  },
  {
   "cell_type": "code",
   "execution_count": null,
   "metadata": {},
   "outputs": [
    {
     "name": "stdout",
     "output_type": "stream",
     "text": [
      "     capture_rate_scaled  attack_scaled  original_index\n",
      "796             2.050104       3.209092             797\n"
     ]
    }
   ],
   "source": [
    "# Redo scaling to access transformed values\n",
    "X_raw = pokemon_data_ml_encoded[['capture_rate', 'attack']]\n",
    "scaler = StandardScaler()\n",
    "X_scaled = scaler.fit_transform(X_raw)\n",
    "\n",
    "# Convert to DataFrame for easier querying\n",
    "scaled_df = pd.DataFrame(X_scaled, columns=['capture_rate_scaled', 'attack_scaled'])\n",
    "scaled_df['original_index'] = pokemon_data_ml_encoded.index\n",
    "\n",
    "# Find outliers \n",
    "outliers = scaled_df[(scaled_df['capture_rate_scaled'] > 1.8) & (scaled_df['attack_scaled'] > 2.5)]\n",
    "print(outliers)\n"
   ]
  },
  {
   "cell_type": "code",
   "execution_count": 180,
   "metadata": {},
   "outputs": [
    {
     "name": "stdout",
     "output_type": "stream",
     "text": [
      "     attack  base_total  capture_rate  defense  experience_growth  height_m  \\\n",
      "797     181         570           255      131            1250000       0.3   \n",
      "\n",
      "     hp  pokedex_number  sp_attack  sp_defense  ...  type2_ghost  type2_grass  \\\n",
      "797  59             798         59          31  ...            0            0   \n",
      "\n",
      "     type2_ground  type2_ice  type2_normal  type2_poison  type2_psychic  \\\n",
      "797             0          0             0             0              0   \n",
      "\n",
      "     type2_rock  type2_steel  type2_water  \n",
      "797           0            1            0  \n",
      "\n",
      "[1 rows x 51 columns]\n"
     ]
    }
   ],
   "source": [
    "outlier_indices = outliers['original_index'].values\n",
    "print(pokemon_data_ml_encoded.loc[outlier_indices])"
   ]
  },
  {
   "cell_type": "code",
   "execution_count": 184,
   "metadata": {},
   "outputs": [
    {
     "data": {
      "text/plain": [
       "1"
      ]
     },
     "execution_count": 184,
     "metadata": {},
     "output_type": "execute_result"
    }
   ],
   "source": [
    "pokemon_data_ml_encoded['is_legendary'].unique().sum()"
   ]
  },
  {
   "cell_type": "markdown",
   "metadata": {},
   "source": [
    "I ended up googling these pokedex numbers and it looks like these 2 are Ultra Beasts or whatever that new stuff is "
   ]
  },
  {
   "cell_type": "markdown",
   "metadata": {},
   "source": [
    "# Neural net (Severe lack of data)"
   ]
  },
  {
   "cell_type": "code",
   "execution_count": 203,
   "metadata": {},
   "outputs": [],
   "source": [
    "class OptimizedMLP(nn.Module):\n",
    "    def __init__(self, input_dim):\n",
    "        super(OptimizedMLP, self).__init__()\n",
    "        self.net = nn.Sequential(\n",
    "            nn.Linear(input_dim, 128),\n",
    "            nn.ReLU(),\n",
    "            nn.Dropout(0.3),\n",
    "            nn.Linear(128, 64),\n",
    "            nn.ReLU(),\n",
    "            nn.Dropout(0.3),\n",
    "            nn.Linear(64, 1)\n",
    "        )\n",
    "\n",
    "    def forward(self, x):\n",
    "        return self.net(x)\n"
   ]
  },
  {
   "cell_type": "code",
   "execution_count": 186,
   "metadata": {},
   "outputs": [],
   "source": [
    "# Define model\n",
    "input_dim = X_train_tensor.shape[1]\n",
    "model = OptimizedMLP(input_dim)\n",
    "\n",
    "# Use BCEWithLogitsLoss (better numerically + works directly with logits)\n",
    "criterion = nn.BCEWithLogitsLoss()\n",
    "\n",
    "# AdamW helps with generalization\n",
    "optimizer = torch.optim.AdamW(model.parameters(), lr=0.001, weight_decay=1e-4)\n"
   ]
  },
  {
   "cell_type": "code",
   "execution_count": 198,
   "metadata": {},
   "outputs": [
    {
     "name": "stdout",
     "output_type": "stream",
     "text": [
      "Epoch 10/150, Loss: 0.0000\n",
      "Epoch 20/150, Loss: 0.0000\n",
      "Epoch 30/150, Loss: 0.0000\n",
      "Epoch 40/150, Loss: 0.0000\n",
      "Epoch 50/150, Loss: 0.0000\n",
      "Epoch 60/150, Loss: 0.0000\n",
      "Epoch 70/150, Loss: 0.0000\n",
      "Epoch 80/150, Loss: 0.0001\n",
      "Epoch 90/150, Loss: 0.0000\n",
      "Epoch 100/150, Loss: 0.0000\n",
      "Epoch 110/150, Loss: 0.0001\n",
      "Epoch 120/150, Loss: 0.0000\n",
      "Epoch 130/150, Loss: 0.0000\n",
      "Epoch 140/150, Loss: 0.0000\n",
      "Epoch 150/150, Loss: 0.0001\n"
     ]
    }
   ],
   "source": [
    "num_epochs = 150\n",
    "train_losses = []\n",
    "\n",
    "for epoch in range(num_epochs):\n",
    "    model.train()\n",
    "    \n",
    "    logits = model(X_train_tensor)\n",
    "    loss = criterion(logits, y_train_tensor)\n",
    "\n",
    "    optimizer.zero_grad()\n",
    "    loss.backward()\n",
    "    optimizer.step()\n",
    "\n",
    "    train_losses.append(loss.item())\n",
    "\n",
    "    if (epoch + 1) % 10 == 0:\n",
    "        print(f\"Epoch {epoch+1}/{num_epochs}, Loss: {loss.item():.4f}\")\n"
   ]
  },
  {
   "cell_type": "code",
   "execution_count": 199,
   "metadata": {},
   "outputs": [
    {
     "name": "stdout",
     "output_type": "stream",
     "text": [
      "Accuracy: 0.93125\n",
      "Confusion Matrix:\n",
      " [[138   1]\n",
      " [ 10  11]]\n",
      "Classification Report:\n",
      "               precision    recall  f1-score   support\n",
      "\n",
      "           0       0.93      0.99      0.96       139\n",
      "           1       0.92      0.52      0.67        21\n",
      "\n",
      "    accuracy                           0.93       160\n",
      "   macro avg       0.92      0.76      0.81       160\n",
      "weighted avg       0.93      0.93      0.92       160\n",
      "\n"
     ]
    }
   ],
   "source": [
    "model.eval()\n",
    "with torch.no_grad():\n",
    "    logits = model(X_test_tensor)\n",
    "    predictions = torch.sigmoid(logits)\n",
    "    predicted_labels = (predictions > 0.5).float()\n",
    "\n",
    "from sklearn.metrics import accuracy_score, confusion_matrix, classification_report\n",
    "\n",
    "print(\"Accuracy:\", accuracy_score(y_test, predicted_labels))\n",
    "print(\"Confusion Matrix:\\n\", confusion_matrix(y_test, predicted_labels))\n",
    "print(\"Classification Report:\\n\", classification_report(y_test, predicted_labels))\n"
   ]
  },
  {
   "cell_type": "code",
   "execution_count": null,
   "metadata": {},
   "outputs": [
    {
     "data": {
      "image/png": "[encoded data removed]",
      "text/plain": [
       "<Figure size 640x480 with 1 Axes>"
      ]
     },
     "metadata": {},
     "output_type": "display_data"
    }
   ],
   "source": [
    "# lets plot htis horrid loss \n",
    "plt.plot(train_losses)\n",
    "plt.title(\"Training Loss\")\n",
    "plt.xlabel(\"Epoch\")\n",
    "plt.ylabel(\"Loss\")\n",
    "plt.grid(True)\n",
    "plt.show()\n"
   ]
  },
  {
   "cell_type": "markdown",
   "metadata": {},
   "source": [
    "Logistic Regression won clearly"
   ]
  },
  {
   "cell_type": "markdown",
   "metadata": {},
   "source": [
    "## Random Forest (the real hero)"
   ]
  },
  {
   "cell_type": "code",
   "execution_count": null,
   "metadata": {},
   "outputs": [
    {
     "name": "stdout",
     "output_type": "stream",
     "text": [
      "📊 Accuracy: 0.98125\n",
      "\n",
      "🧮 Confusion Matrix:\n",
      " [[139   0]\n",
      " [  3  18]]\n",
      "\n",
      "📝 Classification Report:\n",
      "               precision    recall  f1-score   support\n",
      "\n",
      "           0       0.98      1.00      0.99       139\n",
      "           1       1.00      0.86      0.92        21\n",
      "\n",
      "    accuracy                           0.98       160\n",
      "   macro avg       0.99      0.93      0.96       160\n",
      "weighted avg       0.98      0.98      0.98       160\n",
      "\n"
     ]
    },
    {
     "data": {
      "image/png": "[encoded data removed]",
      "text/plain": [
       "<Figure size 1000x600 with 1 Axes>"
      ]
     },
     "metadata": {},
     "output_type": "display_data"
    }
   ],
   "source": [
    "#Split features and target\n",
    "X = pokemon_data_ml_encoded.drop('is_legendary', axis=1)\n",
    "y = pokemon_data_ml_encoded['is_legendary']\n",
    "\n",
    "X_train, X_test, y_train, y_test = train_test_split(X, y, test_size=0.2, random_state=42)\n",
    "\n",
    "#Train Random Forest with class_weight to handle imbalance\n",
    "rf_model = RandomForestClassifier(n_estimators=100, random_state=42, class_weight='balanced')\n",
    "rf_model.fit(X_train, y_train)\n",
    "\n",
    "#Predict and Evaluate\n",
    "y_pred = rf_model.predict(X_test)\n",
    "\n",
    "print(\"📊 Accuracy:\", accuracy_score(y_test, y_pred))\n",
    "print(\"\\n🧮 Confusion Matrix:\\n\", confusion_matrix(y_test, y_pred))\n",
    "print(\"\\n📝 Classification Report:\\n\", classification_report(y_test, y_pred))\n",
    "\n",
    "#Visualize Feature Importances\n",
    "importances = rf_model.feature_importances_\n",
    "features = X.columns\n",
    "\n",
    "importance_df = pd.DataFrame({'Feature': features, 'Importance': importances})\n",
    "importance_df = importance_df.sort_values(by='Importance', ascending=False).head(10)\n",
    "\n",
    "plt.figure(figsize=(10, 6))\n",
    "plt.barh(importance_df['Feature'], importance_df['Importance'], color='forestgreen')\n",
    "plt.xlabel(\"Feature Importance\")\n",
    "plt.title(\"Top 10 Most Important Features (Random Forest)\")\n",
    "plt.gca().invert_yaxis()\n",
    "plt.grid(True, linestyle='--', alpha=0.7)\n",
    "plt.tight_layout()\n",
    "plt.show()\n"
   ]
  },
  {
   "cell_type": "code",
   "execution_count": 202,
   "metadata": {},
   "outputs": [
    {
     "name": "stdout",
     "output_type": "stream",
     "text": [
      "Training Accuracy: 1.0\n"
     ]
    }
   ],
   "source": [
    "# just to check overfitting \n",
    "train_acc = accuracy_score(y_train, rf_model.predict(X_train))\n",
    "print(\"Training Accuracy:\", train_acc)\n"
   ]
  },
  {
   "cell_type": "markdown",
   "metadata": {},
   "source": [
    "This is an example that clearly shows that entopy split or gini split (because we used sklearn) based learning is way cleaner than gradient based optimization methods. We just need more compute to use on scale, and maybe while we're at it find a soltuon for NP=Hard problems and then we'd all sleep easier lol."
   ]
  }
 ],
 "metadata": {
  "kernelspec": {
   "display_name": "Python 3",
   "language": "python",
   "name": "python3"
  },
  "language_info": {
   "codemirror_mode": {
    "name": "ipython",
    "version": 3
   },
   "file_extension": ".py",
   "mimetype": "text/x-python",
   "name": "python",
   "nbconvert_exporter": "python",
   "pygments_lexer": "ipython3",
   "version": "3.11.4"
  }
 },
 "nbformat": 4,
 "nbformat_minor": 2
}
